{
 "cells": [
  {
   "cell_type": "code",
   "execution_count": 18,
   "metadata": {},
   "outputs": [
    {
     "name": "stdout",
     "output_type": "stream",
     "text": [
      "RZ\tTX\tTY\n",
      "0\t0.0\t-7.5\n",
      "45\t5.3\t-5.3\n",
      "90\t7.5\t-0.0\n",
      "135\t5.3\t5.3\n",
      "180\t0.0\t7.5\n",
      "225\t-5.3\t5.3\n",
      "270\t-7.5\t0.0\n",
      "315\t-5.3\t-5.3\n"
     ]
    }
   ],
   "source": [
    "import math\n",
    "\n",
    "distance = 7.5\n",
    "\n",
    "faces = 8\n",
    "angles = [a for a in range(0, 360, 360//faces)]\n",
    "\n",
    "print(f\"RZ\\tTX\\tTY\")\n",
    "for angle in angles:\n",
    "    arad = math.radians(angle)\n",
    "    tx = distance * math.sin(arad)\n",
    "    ty = - distance * math.cos(arad)\n",
    "    print(f\"{angle}\\t{tx:.1f}\\t{ty:.1f}\")"
   ]
  },
  {
   "cell_type": "code",
   "execution_count": null,
   "metadata": {},
   "outputs": [],
   "source": [
    "# RZ  | TX   | TY\n",
    "# 0   | 0    | -7.5\n",
    "# 45  | 5.3  | -5.3\n",
    "# 90  | 7.5  | 0\n",
    "# 135 | 5.3  | 5.3"
   ]
  },
  {
   "cell_type": "code",
   "execution_count": 21,
   "metadata": {},
   "outputs": [
    {
     "name": "stdout",
     "output_type": "stream",
     "text": [
      "2.00\n",
      "1.96\n",
      "1.85\n",
      "1.69\n",
      "1.50\n",
      "1.31\n",
      "1.15\n",
      "1.04\n",
      "1.00\n"
     ]
    }
   ],
   "source": [
    "import math\n",
    "\n",
    "steps = 9\n",
    "\n",
    "for x in range(steps):\n",
    "    a = x * math.radians(180/(steps-1)) + math.radians(90)\n",
    "    y = (math.sin(a) + 1)/2 + 1\n",
    "    print(f\"{y:.2f}\")"
   ]
  },
  {
   "cell_type": "code",
   "execution_count": 1,
   "metadata": {},
   "outputs": [
    {
     "name": "stderr",
     "output_type": "stream",
     "text": [
      "env: ‘flatpak’: No such file or directory\n"
     ]
    },
    {
     "data": {
      "text/plain": [
       "32512"
      ]
     },
     "execution_count": 1,
     "metadata": {},
     "output_type": "execute_result"
    }
   ],
   "source": [
    "import os\n",
    "blender = \"env -u SESSION_MANAGER flatpak run org.blender.Blender\"\n",
    "os.system(f\"{blender} ~/python/assets/models/monke.blend -b -P ~/python/blender_pipeline.py\")"
   ]
  },
  {
   "cell_type": "code",
   "execution_count": 2,
   "metadata": {},
   "outputs": [
    {
     "data": {
      "text/plain": [
       "63.99983999999999"
      ]
     },
     "execution_count": 2,
     "metadata": {},
     "output_type": "execute_result"
    }
   ],
   "source": [
    "24*2.66666"
   ]
  },
  {
   "cell_type": "code",
   "execution_count": 6,
   "metadata": {},
   "outputs": [
    {
     "name": "stdout",
     "output_type": "stream",
     "text": [
      "0000\n"
     ]
    }
   ],
   "source": [
    "print(f\"{0:04}\")"
   ]
  },
  {
   "cell_type": "code",
   "execution_count": 4,
   "metadata": {},
   "outputs": [
    {
     "name": "stdout",
     "output_type": "stream",
     "text": [
      "0\t270\n",
      "45\t225\n",
      "90\t180\n",
      "135\t135\n",
      "180\t90\n",
      "225\t45\n",
      "270\t0\n",
      "315\t315\n"
     ]
    }
   ],
   "source": [
    "# 000 -> 270\n",
    "# 045 -> 225\n",
    "# 090 -> 180\n",
    "# 135 -> 135\n",
    "# 180 -> 090\n",
    "\n",
    "for x in range(0, 360, 45):\n",
    "    y = (270 - x) % 360\n",
    "    print(f\"{x}\\t{y}\")"
   ]
  },
  {
   "cell_type": "code",
   "execution_count": 7,
   "metadata": {},
   "outputs": [
    {
     "name": "stdout",
     "output_type": "stream",
     "text": [
      "0 0000\n",
      "90 0900\n",
      "45 0450\n",
      "22.5 0225\n",
      "88.842 0888\n",
      "270 2700\n"
     ]
    }
   ],
   "source": [
    "for angle in [0, 90, 45, 22.5, 88.842, 270]:\n",
    "    print(angle, f\"{int(round((angle) % 360, 1)*10):04}\")"
   ]
  },
  {
   "cell_type": "code",
   "execution_count": 5,
   "metadata": {},
   "outputs": [
    {
     "name": "stdout",
     "output_type": "stream",
     "text": [
      "config={'width': 96, 'height': 96, 'faces': 12, 'distance': 8.0, 'altitude': 10.0, 'fov': 25.0, 'samples': 1, 'transparent': 1, 'mirror': 0, 'light_follow': 0}\n"
     ]
    }
   ],
   "source": [
    "import pandas as pd\n",
    "\n",
    "configs = pd.read_csv(\"./assets/render_configs.csv\", sep=';')\n",
    "configs\n",
    "\n",
    "for config in configs.to_dict(orient=\"records\"):\n",
    "    name = config.pop(\"name\")\n",
    "    print(f\"{config=}\")"
   ]
  },
  {
   "cell_type": "code",
   "execution_count": 10,
   "metadata": {},
   "outputs": [
    {
     "data": {
      "text/plain": [
       "[0.0,\n",
       " 22.5,\n",
       " 45.0,\n",
       " 67.5,\n",
       " 90.0,\n",
       " 112.5,\n",
       " 135.0,\n",
       " 157.5,\n",
       " 180.0,\n",
       " 202.5,\n",
       " 225.0,\n",
       " 247.5,\n",
       " 270.0,\n",
       " 292.5,\n",
       " 315.0,\n",
       " 337.5]"
      ]
     },
     "execution_count": 10,
     "metadata": {},
     "output_type": "execute_result"
    }
   ],
   "source": [
    "[a*(360/16) for a in range(16)]"
   ]
  },
  {
   "cell_type": "code",
   "execution_count": null,
   "metadata": {},
   "outputs": [],
   "source": []
  },
  {
   "cell_type": "code",
   "execution_count": 7,
   "metadata": {},
   "outputs": [
    {
     "name": "stdout",
     "output_type": "stream",
     "text": [
      "k='msg' v='world'\n",
      "k='a' v='0'\n",
      "k='b' v='0.0'\n"
     ]
    },
    {
     "data": {
      "text/plain": [
       "(['hello', 'another'], {'msg': 'world', 'a': 0, 'b': 0.0})"
      ]
     },
     "execution_count": 7,
     "metadata": {},
     "output_type": "execute_result"
    }
   ],
   "source": [
    "\n",
    "\n",
    "parse_argv([\"hello\", \"msg=world\", \"another\", \"a=0\", \"b=0.0\"])"
   ]
  },
  {
   "cell_type": "code",
   "execution_count": null,
   "metadata": {},
   "outputs": [],
   "source": []
  },
  {
   "cell_type": "code",
   "execution_count": 4,
   "metadata": {},
   "outputs": [
    {
     "data": {
      "text/html": [
       "<div>\n",
       "<style scoped>\n",
       "    .dataframe tbody tr th:only-of-type {\n",
       "        vertical-align: middle;\n",
       "    }\n",
       "\n",
       "    .dataframe tbody tr th {\n",
       "        vertical-align: top;\n",
       "    }\n",
       "\n",
       "    .dataframe thead th {\n",
       "        text-align: right;\n",
       "    }\n",
       "</style>\n",
       "<table border=\"1\" class=\"dataframe\">\n",
       "  <thead>\n",
       "    <tr style=\"text-align: right;\">\n",
       "      <th></th>\n",
       "      <th>name</th>\n",
       "      <th>width</th>\n",
       "      <th>height</th>\n",
       "      <th>faces</th>\n",
       "      <th>offset</th>\n",
       "      <th>distance</th>\n",
       "      <th>altitude</th>\n",
       "      <th>fov</th>\n",
       "      <th>samples</th>\n",
       "      <th>transparent</th>\n",
       "      <th>mirror</th>\n",
       "      <th>light_follow</th>\n",
       "      <th>ignore_frames</th>\n",
       "    </tr>\n",
       "  </thead>\n",
       "  <tbody>\n",
       "    <tr>\n",
       "      <th>0</th>\n",
       "      <td>monke</td>\n",
       "      <td>80</td>\n",
       "      <td>96</td>\n",
       "      <td>16</td>\n",
       "      <td>0.0</td>\n",
       "      <td>6.5</td>\n",
       "      <td>8.0</td>\n",
       "      <td>25.0</td>\n",
       "      <td>1</td>\n",
       "      <td>1</td>\n",
       "      <td>0</td>\n",
       "      <td>0</td>\n",
       "      <td>[]</td>\n",
       "    </tr>\n",
       "    <tr>\n",
       "      <th>1</th>\n",
       "      <td>monke2</td>\n",
       "      <td>80</td>\n",
       "      <td>96</td>\n",
       "      <td>8</td>\n",
       "      <td>0.0</td>\n",
       "      <td>6.5</td>\n",
       "      <td>8.0</td>\n",
       "      <td>25.0</td>\n",
       "      <td>1</td>\n",
       "      <td>1</td>\n",
       "      <td>0</td>\n",
       "      <td>0</td>\n",
       "      <td>[]</td>\n",
       "    </tr>\n",
       "    <tr>\n",
       "      <th>2</th>\n",
       "      <td>monke3</td>\n",
       "      <td>80</td>\n",
       "      <td>96</td>\n",
       "      <td>24</td>\n",
       "      <td>0.0</td>\n",
       "      <td>6.5</td>\n",
       "      <td>8.0</td>\n",
       "      <td>25.0</td>\n",
       "      <td>16</td>\n",
       "      <td>1</td>\n",
       "      <td>0</td>\n",
       "      <td>0</td>\n",
       "      <td>[8, 20]</td>\n",
       "    </tr>\n",
       "  </tbody>\n",
       "</table>\n",
       "</div>"
      ],
      "text/plain": [
       "     name  width  height  faces  offset  distance  altitude   fov  samples  \\\n",
       "0   monke     80      96     16     0.0       6.5       8.0  25.0        1   \n",
       "1  monke2     80      96      8     0.0       6.5       8.0  25.0        1   \n",
       "2  monke3     80      96     24     0.0       6.5       8.0  25.0       16   \n",
       "\n",
       "   transparent  mirror  light_follow ignore_frames  \n",
       "0            1       0             0            []  \n",
       "1            1       0             0            []  \n",
       "2            1       0             0       [8, 20]  "
      ]
     },
     "execution_count": 4,
     "metadata": {},
     "output_type": "execute_result"
    }
   ],
   "source": [
    "import pandas as pd\n",
    "\n",
    "params = pd.read_csv(\"./assets/renders/parameters.csv\", sep=';')\n",
    "params[\"ignore_frames\"] = params[\"ignore_frames\"].apply(eval)\n",
    "params"
   ]
  }
 ],
 "metadata": {
  "kernelspec": {
   "display_name": "venv",
   "language": "python",
   "name": "python3"
  },
  "language_info": {
   "codemirror_mode": {
    "name": "ipython",
    "version": 3
   },
   "file_extension": ".py",
   "mimetype": "text/x-python",
   "name": "python",
   "nbconvert_exporter": "python",
   "pygments_lexer": "ipython3",
   "version": "3.11.8"
  }
 },
 "nbformat": 4,
 "nbformat_minor": 2
}
