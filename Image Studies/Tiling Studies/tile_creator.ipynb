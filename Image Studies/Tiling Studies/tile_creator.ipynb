{
 "cells": [
  {
   "cell_type": "code",
   "execution_count": 1,
   "metadata": {},
   "outputs": [],
   "source": [
    "from PIL import Image, ImageOps, ImageDraw\n",
    "from typing import Literal\n",
    "\n",
    "\n",
    "\n",
    "def display_image(img: Image.Image, scale: float = 10) -> None:\n",
    "    display(ImageOps.scale(img, scale, Image.Resampling.NEAREST))\n",
    "\n",
    "def snap(val: float, mult: float) -> float:\n",
    "    return mult * round(val / mult)\n",
    "\n",
    "def create_symmetric_base(\n",
    "        size: tuple[int, int],\n",
    "        lines: list[tuple[tuple[float]]],\n",
    "        fill: int = 0,\n",
    "        **kwargs,\n",
    "    ) -> Image.Image:\n",
    "    \n",
    "    img = Image.new(\"L\", size, 255)\n",
    "    draw = ImageDraw.Draw(img)\n",
    "    \n",
    "    for line in lines:\n",
    "        draw.line(line, fill=fill)\n",
    "    \n",
    "    img.paste(ImageOps.flip(img), mask=img)\n",
    "    img.paste(ImageOps.mirror(img), mask=img)\n",
    "    \n",
    "    return img\n",
    "\n",
    "def create_mask_from_base(\n",
    "        base: Image.Image,\n",
    "        **kwargs,\n",
    "    ) -> Image.Image:\n",
    "    \n",
    "    mask = base.copy()\n",
    "    width, height = mask.size\n",
    "    \n",
    "    ImageDraw.floodfill(mask, (width / 2, height / 2), 0)\n",
    "    mask = ImageOps.invert(mask)\n",
    "    \n",
    "    return mask\n",
    "\n",
    "def create_tile_template(\n",
    "        base: Image.Image,\n",
    "        mask: Image.Image,\n",
    "        **kwargs,\n",
    "    ) -> Image.Image:\n",
    "    \n",
    "    tile = base.copy()\n",
    "    tile.putalpha(mask)\n",
    "    \n",
    "    return tile"
   ]
  },
  {
   "cell_type": "code",
   "execution_count": 8,
   "metadata": {},
   "outputs": [],
   "source": [
    "SCALE = 4"
   ]
  },
  {
   "cell_type": "code",
   "execution_count": null,
   "metadata": {},
   "outputs": [],
   "source": [
    "def create_square_base(size: int, **kwargs) -> tuple[Image.Image]:\n",
    "    lines = [((0, size-1), (0, 0)), ((0, 0), (size-1, 0))]\n",
    "    return create_symmetric_base((size, size), lines, **kwargs)\n",
    "\n",
    "for size in [8, 12, 16, 24, 32, 48, 64]:\n",
    "    base = create_square_base(size)\n",
    "    display_image(base, SCALE)"
   ]
  },
  {
   "cell_type": "markdown",
   "metadata": {},
   "source": [
    "![](iso_order.png)"
   ]
  },
  {
   "cell_type": "code",
   "execution_count": null,
   "metadata": {},
   "outputs": [],
   "source": [
    "def create_isometric_base(size: int, **kwargs) -> tuple[Image.Image]:\n",
    "    assert size % 2 == 0, \"Size must be even numbered\"\n",
    "    \n",
    "    lines = [((0, size/2-1), (size-1, 0))]\n",
    "    return create_symmetric_base((size*2, size), lines, **kwargs)\n",
    "\n",
    "for size in [8, 12, 16, 24, 32, 48, 64]:\n",
    "    base = create_isometric_base(size)\n",
    "    display_image(base, SCALE)"
   ]
  },
  {
   "cell_type": "markdown",
   "metadata": {},
   "source": [
    "![](hex_flat_order.png)\n",
    "![](hex_point_order.png)"
   ]
  },
  {
   "cell_type": "code",
   "execution_count": 14,
   "metadata": {},
   "outputs": [
    {
     "name": "stdout",
     "output_type": "stream",
     "text": [
      "height/width=1.0000\n",
      "base.size=(12, 12)\n"
     ]
    },
    {
     "data": {
      "image/jpeg": "[encoded data removed]",
      "image/png": "[encoded data removed]",
      "text/plain": [
       "<PIL.Image.Image image mode=L size=48x48>"
      ]
     },
     "metadata": {},
     "output_type": "display_data"
    },
    {
     "name": "stdout",
     "output_type": "stream",
     "text": [
      "width/height=0.8571\n",
      "base.size=(12, 14)\n"
     ]
    },
    {
     "data": {
      "image/jpeg": "[encoded data removed]",
      "image/png": "[encoded data removed]",
      "text/plain": [
       "<PIL.Image.Image image mode=L size=48x56>"
      ]
     },
     "metadata": {},
     "output_type": "display_data"
    },
    {
     "name": "stdout",
     "output_type": "stream",
     "text": [
      "height/width=0.8571\n",
      "base.size=(14, 12)\n"
     ]
    },
    {
     "data": {
      "image/jpeg": "[encoded data removed]",
      "image/png": "[encoded data removed]",
      "text/plain": [
       "<PIL.Image.Image image mode=L size=56x48>"
      ]
     },
     "metadata": {},
     "output_type": "display_data"
    },
    {
     "name": "stdout",
     "output_type": "stream",
     "text": [
      "width/height=0.8750\n",
      "base.size=(14, 16)\n"
     ]
    },
    {
     "data": {
      "image/jpeg": "[encoded data removed]",
      "image/png": "[encoded data removed]",
      "text/plain": [
       "<PIL.Image.Image image mode=L size=56x64>"
      ]
     },
     "metadata": {},
     "output_type": "display_data"
    },
    {
     "name": "stdout",
     "output_type": "stream",
     "text": [
      "height/width=0.7500\n",
      "base.size=(16, 12)\n"
     ]
    },
    {
     "data": {
      "image/jpeg": "[encoded data removed]",
      "image/png": "[encoded data removed]",
      "text/plain": [
       "<PIL.Image.Image image mode=L size=64x48>"
      ]
     },
     "metadata": {},
     "output_type": "display_data"
    },
    {
     "name": "stdout",
     "output_type": "stream",
     "text": [
      "width/height=0.8889\n",
      "base.size=(16, 18)\n"
     ]
    },
    {
     "data": {
      "image/jpeg": "[encoded data removed]",
      "image/png": "[encoded data removed]",
      "text/plain": [
       "<PIL.Image.Image image mode=L size=64x72>"
      ]
     },
     "metadata": {},
     "output_type": "display_data"
    },
    {
     "name": "stdout",
     "output_type": "stream",
     "text": [
      "height/width=0.8889\n",
      "base.size=(18, 16)\n"
     ]
    },
    {
     "data": {
      "image/jpeg": "[encoded data removed]",
      "image/png": "[encoded data removed]",
      "text/plain": [
       "<PIL.Image.Image image mode=L size=72x64>"
      ]
     },
     "metadata": {},
     "output_type": "display_data"
    },
    {
     "name": "stdout",
     "output_type": "stream",
     "text": [
      "width/height=0.9000\n",
      "base.size=(18, 20)\n"
     ]
    },
    {
     "data": {
      "image/jpeg": "[encoded data removed]",
      "image/png": "[encoded data removed]",
      "text/plain": [
       "<PIL.Image.Image image mode=L size=72x80>"
      ]
     },
     "metadata": {},
     "output_type": "display_data"
    },
    {
     "name": "stdout",
     "output_type": "stream",
     "text": [
      "height/width=0.8000\n",
      "base.size=(20, 16)\n"
     ]
    },
    {
     "data": {
      "image/jpeg": "[encoded data removed]",
      "image/png": "[encoded data removed]",
      "text/plain": [
       "<PIL.Image.Image image mode=L size=80x64>"
      ]
     },
     "metadata": {},
     "output_type": "display_data"
    },
    {
     "name": "stdout",
     "output_type": "stream",
     "text": [
      "width/height=0.8333\n",
      "base.size=(20, 24)\n"
     ]
    },
    {
     "data": {
      "image/jpeg": "[encoded data removed]",
      "image/png": "[encoded data removed]",
      "text/plain": [
       "<PIL.Image.Image image mode=L size=80x96>"
      ]
     },
     "metadata": {},
     "output_type": "display_data"
    },
    {
     "name": "stdout",
     "output_type": "stream",
     "text": [
      "height/width=0.9091\n",
      "base.size=(22, 20)\n"
     ]
    },
    {
     "data": {
      "image/jpeg": "[encoded data removed]",
      "image/png": "[encoded data removed]",
      "text/plain": [
       "<PIL.Image.Image image mode=L size=88x80>"
      ]
     },
     "metadata": {},
     "output_type": "display_data"
    },
    {
     "name": "stdout",
     "output_type": "stream",
     "text": [
      "width/height=0.8462\n",
      "base.size=(22, 26)\n"
     ]
    },
    {
     "data": {
      "image/jpeg": "[encoded data removed]",
      "image/png": "[encoded data removed]",
      "text/plain": [
       "<PIL.Image.Image image mode=L size=88x104>"
      ]
     },
     "metadata": {},
     "output_type": "display_data"
    },
    {
     "name": "stdout",
     "output_type": "stream",
     "text": [
      "height/width=0.8333\n",
      "base.size=(24, 20)\n"
     ]
    },
    {
     "data": {
      "image/jpeg": "[encoded data removed]",
      "image/png": "[encoded data removed]",
      "text/plain": [
       "<PIL.Image.Image image mode=L size=96x80>"
      ]
     },
     "metadata": {},
     "output_type": "display_data"
    },
    {
     "name": "stdout",
     "output_type": "stream",
     "text": [
      "width/height=0.8571\n",
      "base.size=(24, 28)\n"
     ]
    },
    {
     "data": {
      "image/jpeg": "[encoded data removed]",
      "image/png": "[encoded data removed]",
      "text/plain": [
       "<PIL.Image.Image image mode=L size=96x112>"
      ]
     },
     "metadata": {},
     "output_type": "display_data"
    },
    {
     "name": "stdout",
     "output_type": "stream",
     "text": [
      "height/width=0.9231\n",
      "base.size=(26, 24)\n"
     ]
    },
    {
     "data": {
      "image/jpeg": "[encoded data removed]",
      "image/png": "[encoded data removed]",
      "text/plain": [
       "<PIL.Image.Image image mode=L size=104x96>"
      ]
     },
     "metadata": {},
     "output_type": "display_data"
    },
    {
     "name": "stdout",
     "output_type": "stream",
     "text": [
      "width/height=0.8667\n",
      "base.size=(26, 30)\n"
     ]
    },
    {
     "data": {
      "image/jpeg": "[encoded data removed]",
      "image/png": "[encoded data removed]",
      "text/plain": [
       "<PIL.Image.Image image mode=L size=104x120>"
      ]
     },
     "metadata": {},
     "output_type": "display_data"
    },
    {
     "name": "stdout",
     "output_type": "stream",
     "text": [
      "height/width=0.8571\n",
      "base.size=(28, 24)\n"
     ]
    },
    {
     "data": {
      "image/jpeg": "[encoded data removed]",
      "image/png": "[encoded data removed]",
      "text/plain": [
       "<PIL.Image.Image image mode=L size=112x96>"
      ]
     },
     "metadata": {},
     "output_type": "display_data"
    },
    {
     "name": "stdout",
     "output_type": "stream",
     "text": [
      "width/height=0.8750\n",
      "base.size=(28, 32)\n"
     ]
    },
    {
     "data": {
      "image/jpeg": "[encoded data removed]",
      "image/png": "[encoded data removed]",
      "text/plain": [
       "<PIL.Image.Image image mode=L size=112x128>"
      ]
     },
     "metadata": {},
     "output_type": "display_data"
    },
    {
     "name": "stdout",
     "output_type": "stream",
     "text": [
      "height/width=0.8000\n",
      "base.size=(30, 24)\n"
     ]
    },
    {
     "data": {
      "image/jpeg": "[encoded data removed]",
      "image/png": "[encoded data removed]",
      "text/plain": [
       "<PIL.Image.Image image mode=L size=120x96>"
      ]
     },
     "metadata": {},
     "output_type": "display_data"
    },
    {
     "name": "stdout",
     "output_type": "stream",
     "text": [
      "width/height=0.8824\n",
      "base.size=(30, 34)\n"
     ]
    },
    {
     "data": {
      "image/jpeg": "[encoded data removed]",
      "image/png": "[encoded data removed]",
      "text/plain": [
       "<PIL.Image.Image image mode=L size=120x136>"
      ]
     },
     "metadata": {},
     "output_type": "display_data"
    },
    {
     "name": "stdout",
     "output_type": "stream",
     "text": [
      "height/width=0.8750\n",
      "base.size=(32, 28)\n"
     ]
    },
    {
     "data": {
      "image/jpeg": "[encoded data removed]",
      "image/png": "[encoded data removed]",
      "text/plain": [
       "<PIL.Image.Image image mode=L size=128x112>"
      ]
     },
     "metadata": {},
     "output_type": "display_data"
    },
    {
     "name": "stdout",
     "output_type": "stream",
     "text": [
      "width/height=0.8889\n",
      "base.size=(32, 36)\n"
     ]
    },
    {
     "data": {
      "image/jpeg": "[encoded data removed]",
      "image/png": "[encoded data removed]",
      "text/plain": [
       "<PIL.Image.Image image mode=L size=128x144>"
      ]
     },
     "metadata": {},
     "output_type": "display_data"
    },
    {
     "name": "stdout",
     "output_type": "stream",
     "text": [
      "height/width=0.8235\n",
      "base.size=(34, 28)\n"
     ]
    },
    {
     "data": {
      "image/jpeg": "[encoded data removed]",
      "image/png": "[encoded data removed]",
      "text/plain": [
       "<PIL.Image.Image image mode=L size=136x112>"
      ]
     },
     "metadata": {},
     "output_type": "display_data"
    },
    {
     "name": "stdout",
     "output_type": "stream",
     "text": [
      "width/height=0.8500\n",
      "base.size=(34, 40)\n"
     ]
    },
    {
     "data": {
      "image/jpeg": "[encoded data removed]",
      "image/png": "[encoded data removed]",
      "text/plain": [
       "<PIL.Image.Image image mode=L size=136x160>"
      ]
     },
     "metadata": {},
     "output_type": "display_data"
    },
    {
     "name": "stdout",
     "output_type": "stream",
     "text": [
      "height/width=0.8889\n",
      "base.size=(36, 32)\n"
     ]
    },
    {
     "data": {
      "image/jpeg": "[encoded data removed]",
      "image/png": "[encoded data removed]",
      "text/plain": [
       "<PIL.Image.Image image mode=L size=144x128>"
      ]
     },
     "metadata": {},
     "output_type": "display_data"
    },
    {
     "name": "stdout",
     "output_type": "stream",
     "text": [
      "width/height=0.8571\n",
      "base.size=(36, 42)\n"
     ]
    },
    {
     "data": {
      "image/jpeg": "[encoded data removed]",
      "image/png": "[encoded data removed]",
      "text/plain": [
       "<PIL.Image.Image image mode=L size=144x168>"
      ]
     },
     "metadata": {},
     "output_type": "display_data"
    },
    {
     "name": "stdout",
     "output_type": "stream",
     "text": [
      "height/width=0.8421\n",
      "base.size=(38, 32)\n"
     ]
    },
    {
     "data": {
      "image/jpeg": "[encoded data removed]",
      "image/png": "[encoded data removed]",
      "text/plain": [
       "<PIL.Image.Image image mode=L size=152x128>"
      ]
     },
     "metadata": {},
     "output_type": "display_data"
    },
    {
     "name": "stdout",
     "output_type": "stream",
     "text": [
      "width/height=0.8636\n",
      "base.size=(38, 44)\n"
     ]
    },
    {
     "data": {
      "image/jpeg": "[encoded data removed]",
      "image/png": "[encoded data removed]",
      "text/plain": [
       "<PIL.Image.Image image mode=L size=152x176>"
      ]
     },
     "metadata": {},
     "output_type": "display_data"
    },
    {
     "name": "stdout",
     "output_type": "stream",
     "text": [
      "height/width=0.9000\n",
      "base.size=(40, 36)\n"
     ]
    },
    {
     "data": {
      "image/jpeg": "[encoded data removed]",
      "image/png": "[encoded data removed]",
      "text/plain": [
       "<PIL.Image.Image image mode=L size=160x144>"
      ]
     },
     "metadata": {},
     "output_type": "display_data"
    },
    {
     "name": "stdout",
     "output_type": "stream",
     "text": [
      "width/height=0.8696\n",
      "base.size=(40, 46)\n"
     ]
    },
    {
     "data": {
      "image/jpeg": "[encoded data removed]",
      "image/png": "[encoded data removed]",
      "text/plain": [
       "<PIL.Image.Image image mode=L size=160x184>"
      ]
     },
     "metadata": {},
     "output_type": "display_data"
    },
    {
     "name": "stdout",
     "output_type": "stream",
     "text": [
      "height/width=0.8571\n",
      "base.size=(42, 36)\n"
     ]
    },
    {
     "data": {
      "image/jpeg": "[encoded data removed]",
      "image/png": "[encoded data removed]",
      "text/plain": [
       "<PIL.Image.Image image mode=L size=168x144>"
      ]
     },
     "metadata": {},
     "output_type": "display_data"
    },
    {
     "name": "stdout",
     "output_type": "stream",
     "text": [
      "width/height=0.8750\n",
      "base.size=(42, 48)\n"
     ]
    },
    {
     "data": {
      "image/jpeg": "[encoded data removed]",
      "image/png": "[encoded data removed]",
      "text/plain": [
       "<PIL.Image.Image image mode=L size=168x192>"
      ]
     },
     "metadata": {},
     "output_type": "display_data"
    },
    {
     "name": "stdout",
     "output_type": "stream",
     "text": [
      "height/width=0.9091\n",
      "base.size=(44, 40)\n"
     ]
    },
    {
     "data": {
      "image/jpeg": "[encoded data removed]",
      "image/png": "[encoded data removed]",
      "text/plain": [
       "<PIL.Image.Image image mode=L size=176x160>"
      ]
     },
     "metadata": {},
     "output_type": "display_data"
    },
    {
     "name": "stdout",
     "output_type": "stream",
     "text": [
      "width/height=0.8800\n",
      "base.size=(44, 50)\n"
     ]
    },
    {
     "data": {
      "image/jpeg": "[encoded data removed]",
      "image/png": "[encoded data removed]",
      "text/plain": [
       "<PIL.Image.Image image mode=L size=176x200>"
      ]
     },
     "metadata": {},
     "output_type": "display_data"
    },
    {
     "name": "stdout",
     "output_type": "stream",
     "text": [
      "height/width=0.8696\n",
      "base.size=(46, 40)\n"
     ]
    },
    {
     "data": {
      "image/jpeg": "[encoded data removed]",
      "image/png": "[encoded data removed]",
      "text/plain": [
       "<PIL.Image.Image image mode=L size=184x160>"
      ]
     },
     "metadata": {},
     "output_type": "display_data"
    },
    {
     "name": "stdout",
     "output_type": "stream",
     "text": [
      "width/height=0.8519\n",
      "base.size=(46, 54)\n"
     ]
    },
    {
     "data": {
      "image/jpeg": "[encoded data removed]",
      "image/png": "[encoded data removed]",
      "text/plain": [
       "<PIL.Image.Image image mode=L size=184x216>"
      ]
     },
     "metadata": {},
     "output_type": "display_data"
    },
    {
     "name": "stdout",
     "output_type": "stream",
     "text": [
      "height/width=0.8333\n",
      "base.size=(48, 40)\n"
     ]
    },
    {
     "data": {
      "image/jpeg": "[encoded data removed]",
      "image/png": "[encoded data removed]",
      "text/plain": [
       "<PIL.Image.Image image mode=L size=192x160>"
      ]
     },
     "metadata": {},
     "output_type": "display_data"
    },
    {
     "name": "stdout",
     "output_type": "stream",
     "text": [
      "width/height=0.8571\n",
      "base.size=(48, 56)\n"
     ]
    },
    {
     "data": {
      "image/jpeg": "[encoded data removed]",
      "image/png": "[encoded data removed]",
      "text/plain": [
       "<PIL.Image.Image image mode=L size=192x224>"
      ]
     },
     "metadata": {},
     "output_type": "display_data"
    }
   ],
   "source": [
    "def create_hexagonal_base(\n",
    "        size: int,\n",
    "        top: Literal[\"flat\", \"point\"] = \"flat\",\n",
    "        **kwargs,\n",
    "    ) -> Image.Image:\n",
    "    assert size % 2 == 0, \"Size must be even numbered\"\n",
    "    \n",
    "    SQRT3BY2 = 0.866\n",
    "    \n",
    "    match top:\n",
    "        case \"flat\":\n",
    "            width, height = size, int(snap(size*SQRT3BY2, 4)) # nearest multiple of 4\n",
    "            qw, mh = width / 3.9, height / 2\n",
    "            \n",
    "            offset = 0\n",
    "            if width in (8, 12): offset = 0.5\n",
    "            \n",
    "            lines = [\n",
    "                ((0, mh-1), (qw-0.5+offset, 0)), # top-left\n",
    "                ((qw+0.5, 0), (width/2, 0)), # top\n",
    "            ]\n",
    "            \n",
    "            print(f\"{height/width=:.4f}\")\n",
    "        \n",
    "        case \"point\":\n",
    "            # assert size % 4 == 0, \"Size must be multiple of 4\"\n",
    "            \n",
    "            width, height = size, int(snap(size/SQRT3BY2, 2)) # nearest multiple of 2\n",
    "            mw, qh = width / 2, height / 3.9\n",
    "            \n",
    "            offset = 0\n",
    "            if width in (10, 14, 18): offset = 0.5\n",
    "            \n",
    "            lines = [\n",
    "                ((0, qh-0.5+offset), (mw-0.5, 0)), # top-left\n",
    "                ((0, qh+0.5), (0, height/2)), # side\n",
    "            ]\n",
    "            \n",
    "            print(f\"{width/height=:.4f}\")\n",
    "    \n",
    "    base = create_symmetric_base((width, height), lines, **kwargs)\n",
    "    \n",
    "    print(f\"{base.size=}\")\n",
    "    \n",
    "    return base\n",
    "\n",
    "\n",
    "for s in range(12, 50, 2):\n",
    "    display_image(create_hexagonal_base(s, \"flat\"), SCALE)\n",
    "    display_image(create_hexagonal_base(s, \"point\"), SCALE)"
   ]
  },
  {
   "cell_type": "code",
   "execution_count": null,
   "metadata": {},
   "outputs": [],
   "source": []
  }
 ],
 "metadata": {
  "kernelspec": {
   "display_name": "venv",
   "language": "python",
   "name": "python3"
  },
  "language_info": {
   "codemirror_mode": {
    "name": "ipython",
    "version": 3
   },
   "file_extension": ".py",
   "mimetype": "text/x-python",
   "name": "python",
   "nbconvert_exporter": "python",
   "pygments_lexer": "ipython3",
   "version": "3.12.7"
  }
 },
 "nbformat": 4,
 "nbformat_minor": 2
}
