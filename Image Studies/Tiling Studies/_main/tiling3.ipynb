{
 "cells": [
  {
   "cell_type": "markdown",
   "id": "ccc1ccb0",
   "metadata": {},
   "source": [
    "# TODO:\n",
    "\n",
    "- Have fun"
   ]
  },
  {
   "cell_type": "markdown",
   "id": "1136a426",
   "metadata": {},
   "source": [
    "# Dependencies"
   ]
  },
  {
   "cell_type": "code",
   "execution_count": 1,
   "id": "cf6fbbb9",
   "metadata": {},
   "outputs": [],
   "source": [
    "import re\n",
    "from typing import Literal, Any, Type, Sequence, Self\n",
    "from itertools import combinations\n",
    "\n",
    "import numpy as np\n",
    "from PIL import Image, ImageOps, ImageDraw, ImageFilter, ImageEnhance, ImageChops"
   ]
  },
  {
   "cell_type": "markdown",
   "id": "0b5b61bc",
   "metadata": {},
   "source": [
    "# Utils"
   ]
  },
  {
   "cell_type": "code",
   "execution_count": 52,
   "id": "41086427",
   "metadata": {},
   "outputs": [],
   "source": [
    "def snap(value: float, multiple: float) -> float:\n",
    "    return multiple * round(value / multiple)\n",
    "\n",
    "def coalesce(value: Any, structure: Type) -> Type:\n",
    "    if isinstance(value, structure):\n",
    "        return value\n",
    "    \n",
    "    if structure == list:\n",
    "        return [value]\n",
    "    \n",
    "    if structure == set:\n",
    "        return {value,}\n",
    "    \n",
    "    if structure == tuple:\n",
    "        return (value,)\n",
    "    \n",
    "    return value\n",
    "\n",
    "# https://stackoverflow.com/questions/2150108/efficient-way-to-rotate-a-list-in-python\n",
    "def shift_list(_list: list, shift: int = 0, invert: bool = False) -> list:\n",
    "    seq = _list.copy()\n",
    "    \n",
    "    if invert:\n",
    "        seq = seq[::-1]\n",
    "    \n",
    "    if not shift:\n",
    "        return seq\n",
    "    \n",
    "    for s in range(abs(shift)):\n",
    "        if shift < 0:\n",
    "            seq.append(seq.pop(0))\n",
    "        \n",
    "        if shift > 0:\n",
    "            seq.insert(0, seq.pop(-1))\n",
    "    \n",
    "    return seq\n",
    "\n",
    "def shift_string(text: str, shift: int = 0, invert: bool = False) -> list:\n",
    "    if invert:\n",
    "        text = text[::-1]\n",
    "    \n",
    "    if not shift:\n",
    "        return text\n",
    "    \n",
    "    shift = (shift + len(text)) % len(text)\n",
    "    stext = text[-shift:] + text[:-shift]\n",
    "    \n",
    "    return stext\n",
    "\n",
    "\n",
    "def display_image(img: Image.Image, scale: float = 10) -> None:\n",
    "    display(ImageOps.scale(img, scale, Image.Resampling.NEAREST))\n",
    "\n",
    "def match_closest_choice(value: str, choices: list[str]) -> list[str]:\n",
    "    best_score: int = 0\n",
    "    best_choice: str = None\n",
    "    \n",
    "    for choice in choices:\n",
    "        matches = []\n",
    "        for idx in range(len(value)):\n",
    "            # Strong True find\n",
    "            if value[idx] == choice[idx] and value[idx]:\n",
    "                matches.append(2)\n",
    "            # Strong equal find\n",
    "            elif value[idx] == choice[idx]:\n",
    "                matches.append(1.2)\n",
    "            # Weak wilcard find\n",
    "            elif value[idx] == '.' or choice[idx] == '.':\n",
    "                matches.append(1)\n",
    "            # No find\n",
    "            else:\n",
    "                matches.append(0)\n",
    "            \n",
    "            score = sum(matches)\n",
    "            \n",
    "            if score > best_score:\n",
    "                best_score = score\n",
    "                best_choice = choice\n",
    "    \n",
    "    return best_choice\n",
    "\n",
    "def match_choice(value: str, choices: list[str]) -> list[str]:\n",
    "    # choices can be a list of precompiled patterns\n",
    "    \n",
    "    found = []\n",
    "    \n",
    "    for choice in choices:\n",
    "        # pattern = choice.replace('x', '.')\n",
    "        matcher = re.compile(f\"^{choice}$\")\n",
    "        \n",
    "        if matcher.match(value):\n",
    "            found.append(choice)\n",
    "    \n",
    "    return found\n",
    "\n",
    "def combine_choices(choice1: str, choice2: str) -> str:\n",
    "    choice = []\n",
    "    for c1, c2 in zip(choice1, choice2):\n",
    "        if c1 == c2:\n",
    "            choice.append(c1)\n",
    "        \n",
    "        elif c1 == '1' or c2 == '1':\n",
    "            choice.append('1')\n",
    "        \n",
    "        else: # wildcards\n",
    "            choice.append('.')\n",
    "    \n",
    "    return ''.join(choice)\n"
   ]
  },
  {
   "cell_type": "markdown",
   "id": "5467e667",
   "metadata": {},
   "source": [
    "# Configs"
   ]
  },
  {
   "cell_type": "code",
   "execution_count": 68,
   "id": "0f3f44e9",
   "metadata": {},
   "outputs": [],
   "source": [
    "Shapes = Literal['ort.square', 'ort.rect', 'iso', 'hex.flat', 'hex.point']\n",
    "\n",
    "TILE_BORDER_POINTS: dict[str, dict[str, tuple[int, ...]], tuple[float, ...]] = {\n",
    "    # (x, y) or (x1, y1, x2, y2, ...)\n",
    "    \"ort\": {\n",
    "        \"1.00000.\": (0.0, 0.0),             # NW: upper-left corner\n",
    "        \".1.00000\": (0.0, 0.0, 1.0, 0.0),   # N : upper edge\n",
    "        \"0.1.0000\": (1.0, 0.0),             # NE: upper-right corner\n",
    "        \"00.1.000\": (1.0, 0.0, 1.0, 1.0),   # E : right edge\n",
    "        \"000.1.00\": (1.0, 1.0),             # SE: lower-right corner\n",
    "        \"0000.1.0\": (1.0, 1.0, 0.0, 1.0),   # S : lower edge\n",
    "        \"00000.1.\": (0.0, 1.0),             # SW: lower-left corner\n",
    "        \".00000.1\": (0.0, 1.0, 0.0, 0.0),   # W : left edge\n",
    "    },\n",
    "    \"iso\": {\n",
    "        \"1.00000.\": (0.0, 0.0, 1.0, 0.0),   # N : upper corner\n",
    "        \".1.00000\": (0.5, 0.0, 1.0, 0.5),   # NE: upper-right edge\n",
    "        \"0.1.0000\": (1.0, 0.0, 1.0, 1.0),   # E : right corner\n",
    "        \"00.1.000\": (1.0, 0.5, 0.5, 1.0),   # SE: lower-right edge\n",
    "        \"000.1.00\": (0.0, 1.0, 1.0, 1.0),   # S : lower corner\n",
    "        \"0000.1.0\": (0.5, 1.0, 0.0, 0.5),   # SW: lower-left edge\n",
    "        \"00000.1.\": (0.0, 1.0, 0.0, 0.0),   # W : left corner\n",
    "        \".00000.1\": (0.0, 0.5, 0.5, 0.0),   # NW: upper-left edge\n",
    "    },\n",
    "    \"hex.flat\": {\n",
    "        \n",
    "    },\n",
    "    \"hex.point\" : {\n",
    "        \n",
    "    },\n",
    "}\n",
    "\n",
    "# Shape: 'ort.square', 'ort.rect', 'iso', 'hex.flat', 'hex.point'\n",
    "# Operation: rotation(angle), mirror(axis)\n",
    "# Value: angle or axis\n",
    "TILE_MOVE_PARAMS: dict[Shapes, dict[str, dict[int|str, tuple[int, bool]]]] = {\n",
    "    # ORTHOGONAL SQUARE/RECTANGLE ---------------------------------\n",
    "    \"ort\": {\n",
    "        # Rotation\n",
    "        # | 0     | 90    | 180   | 270   |\n",
    "        # | 1 2 3 | 3 4 5 | 5 6 7 | 7 8 1 |\n",
    "        # | 8 0 4 | 2 0 6 | 4 0 8 | 6 0 2 |\n",
    "        # | 7 6 5 | 1 8 7 | 3 2 1 | 5 4 3 |\n",
    "        # Mirror\n",
    "        # | 0     | '|'   | '-'   | '/'   | '\\'   |\n",
    "        # | 1 2 3 | 3 2 1 | 7 6 5 | 5 4 3 | 1 8 7 |\n",
    "        # | 8 0 4 | 4 0 8 | 8 0 4 | 6 0 2 | 2 0 6 |\n",
    "        # | 7 6 5 | 5 6 7 | 1 2 3 | 7 8 1 | 3 4 5 |\n",
    "        \"rotation\": {\n",
    "            0  : (+0, False),\n",
    "            90 : (-2, False), # (3, 4, 5, 6, 7, 8, 1, 2)\n",
    "            180: (-4, False), # (5, 6, 7, 8, 1, 2, 3, 4)\n",
    "            270: (+2, False), # (7, 8, 1, 2, 3, 4, 5, 6)\n",
    "        },\n",
    "        \"mirror\": {\n",
    "            '|' : (+3, True), # (3, 2, 1, 8, 7, 6, 5, 4)\n",
    "            '-' : (-1, True), # (7, 6, 5, 4, 3, 2, 1, 8)\n",
    "            '/' : (-3, True), # (5, 4, 3, 2, 1, 8, 7, 6)\n",
    "            '\\\\': (+1, True), # (1, 8, 7, 6, 5, 4, 3, 2)\n",
    "        },\n",
    "    },\n",
    "    \n",
    "    # ISOMETRIC ---------------------------------------------------\n",
    "    \"iso\": {\n",
    "        # Rotation\n",
    "        # | 0         | 90        | 180       | 270       |\n",
    "        # |     1     |           |     5     |           |\n",
    "        # |   8   2   |           |   4   6   |           |\n",
    "        # | 7   0   3 |     X     | 3   0   7 |     X     |\n",
    "        # |   6   4   |           |   2   8   |           |\n",
    "        # |     5     |           |     1     |           |\n",
    "        # Mirror\n",
    "        # | 0         | '|'       | '-'       | '/'       | '\\'       |\n",
    "        # |     1     |     1     |     5     |           |           |\n",
    "        # |   8   2   |   2   8   |   6   4   |           |           |\n",
    "        # | 7   0   3 | 3   0   7 | 7   0   3 |     X     |     X     |\n",
    "        # |   6   4   |   4   6   |   8   2   |           |           |\n",
    "        # |     5     |     5     |     1     |           |           |\n",
    "        \"rotation\": {\n",
    "            180: (+4, False), # (5, 6, 7, 8, 1, 2, 3, 4)\n",
    "        },\n",
    "        \"mirror\": {\n",
    "            '|': (+1, True), # (1, 8, 7, 6, 5, 4, 3, 2)\n",
    "            '-': (-3, True), # (5, 4, 3, 2, 1, 8, 7, 6)\n",
    "        },\n",
    "    },\n",
    "    \n",
    "    # HEXAGONAL ---------------------------------------------------\n",
    "    \"hex.flat\": {\n",
    "        # FLAT\n",
    "        # Rotation\n",
    "        # | 0     | 90    | 180   | 270   |\n",
    "        # |  1 2  |       |  4 5  |       |\n",
    "        # | 6 0 3 |   X   | 3 0 6 |   X   |\n",
    "        # |  5 4  |       |  2 1  |       |\n",
    "        # Mirror\n",
    "        # | 0     | '|'   | '-'   | '/'   | '\\'   |\n",
    "        # |  1 2  |  2 1  |  5 4  |       |       |\n",
    "        # | 6 0 3 | 3 0 6 | 6 0 3 |   X   |   X   |\n",
    "        # |  5 4  |  4 5  |  1 2  |       |       |\n",
    "        \"rotation\": {\n",
    "            180: (+3, False), # (4, 5, 6, 1, 2, 3)\n",
    "        },\n",
    "        \"mirror\": {\n",
    "            '|': (+2, True), # (2, 1, 6, 5, 4, 3)\n",
    "            '-': (-1, True), # (5, 4, 3, 2, 1, 6)\n",
    "        },\n",
    "    },\n",
    "    \n",
    "    \"hex.point\": {\n",
    "        # POINT\n",
    "        # Rotation\n",
    "        # | 0     | 90    | 180   | 270   |\n",
    "        # |   1   |       |   4   |       |\n",
    "        # | 6 0 2 |   X   | 3 0 5 |   X   |\n",
    "        # | 5   3 |       | 2   6 |       |\n",
    "        # |   4   |       |   1   |       |\n",
    "        # Mirror\n",
    "        # | 0     | '|'   | '-'   | '/'   | '\\'   |\n",
    "        # |   1   |   1   |   4   |       |       |\n",
    "        # | 6 0 2 | 2 0 6 | 5 0 3 |   X   |   X   |\n",
    "        # | 5   3 | 3   4 | 6   2 |       |       |\n",
    "        # |   4   |   4   |   1   |       |       |\n",
    "        \"rotation\": {\n",
    "            180: (+3, False), # (4, 5, 6, 1, 2, 3)\n",
    "        },\n",
    "        \"mirror\": {\n",
    "            '|': (+1, True), # (1, 6, 5, 4, 3, 2)\n",
    "            '-': (-2, True), # (4, 3, 2, 1, 6, 5)\n",
    "        },\n",
    "    },\n",
    "}\n",
    "\n",
    "TEST_SET: tuple[tuple[int, ...], ...] = (\n",
    "    #0,1,2,3,4,5,6,7,8,9,0,1,2,3,4,5,6,7,\n",
    "    (1,1,1,1,1,1,1,1,1,1,1,1,1,1,1,1,1,1),#0\n",
    "    (1,0,0,0,1,1,0,0,0,0,0,0,0,1,0,0,0,1),#1\n",
    "    (1,0,1,0,1,1,0,0,0,0,0,0,0,1,1,1,0,1),#2\n",
    "    (1,0,0,0,1,1,0,0,1,1,1,0,0,1,1,1,0,1),#3\n",
    "    (1,1,1,1,1,1,0,0,1,0,1,0,0,1,0,0,0,1),#4\n",
    "    (1,0,1,0,1,1,0,0,1,1,1,0,0,1,0,1,1,1),#5\n",
    "    (1,1,0,1,1,1,0,0,0,0,0,0,0,1,0,0,0,1),#6\n",
    "    (1,0,1,0,1,1,0,0,0,0,0,0,0,1,0,1,0,1),#7\n",
    "    (1,1,1,1,1,1,1,1,1,1,1,1,1,1,1,1,1,1),#8\n",
    ")\n",
    "\n",
    "def slice_tilemap(tilemap: tuple[tuple[int, ...], ...], x0: int, y0: int) -> tuple[int, ...]:\n",
    "    r0 = tilemap[y0-1][x0-1:x0+2]\n",
    "    print(f\"{r0=}\")\n",
    "    r1 = tilemap[y0][x0-1:x0+2]\n",
    "    print(f\"{r1=}\")\n",
    "    r2 = tilemap[y0+1][x0-1:x0+2]\n",
    "    print(f\"{r2=}\")\n",
    "    r = r0+r1+r2\n",
    "    return r\n",
    "\n",
    "def slice_to_edges(*edges: int) -> str:\n",
    "    edge = [*edges[:3], edges[5], *edges[6:][::-1], edges[3]]\n",
    "    return ''.join(str(e) for e in edge)\n",
    "\n"
   ]
  },
  {
   "cell_type": "markdown",
   "id": "73fffde5",
   "metadata": {},
   "source": [
    "# Classes"
   ]
  },
  {
   "cell_type": "code",
   "execution_count": 69,
   "id": "8ffacfc9",
   "metadata": {},
   "outputs": [
    {
     "data": {
      "image/jpeg": "[encoded data removed]",
      "image/png": "[encoded data removed]",
      "text/plain": [
       "<PIL.Image.Image image mode=L size=424x424>"
      ]
     },
     "metadata": {},
     "output_type": "display_data"
    },
    {
     "data": {
      "image/jpeg": "[encoded data removed]",
      "image/png": "[encoded data removed]",
      "text/plain": [
       "<PIL.Image.Image image mode=L size=424x424>"
      ]
     },
     "metadata": {},
     "output_type": "display_data"
    }
   ],
   "source": [
    "class Tile:\n",
    "    \"\"\"A framework to deal with Tiles\"\"\"\n",
    "    \n",
    "    # DUNDERS # ----------------------------------------------------------------\n",
    "    def __init__(self,\n",
    "            ref: str | Image.Image | np.typing.NDArray = None,\n",
    "            shape: Shapes = None,\n",
    "        ) -> None:\n",
    "        \"\"\"The base Tile class for tiling operations\n",
    "        \n",
    "        Returns:\n",
    "            Tile: A PIL.Image wrapped around tiling methods\n",
    "        \"\"\"\n",
    "        \n",
    "        self.image: Image.Image\n",
    "        \n",
    "        if isinstance(ref, Image.Image):\n",
    "            self.image = ref\n",
    "        \n",
    "        elif isinstance(ref, str):\n",
    "            self.image = Image.open(ref)\n",
    "        \n",
    "        elif isinstance(ref, np.ndarray):\n",
    "            self.image = Image.fromarray(ref)\n",
    "        \n",
    "        else:\n",
    "            self.image = Image.new('RGB', (1, 1), (255, 0, 255))\n",
    "        \n",
    "        \n",
    "        if shape is None:\n",
    "            w, h = self.size\n",
    "            shape = 'ort.square' if w == h else 'ort.rect'\n",
    "        \n",
    "        self.shape: str = shape\n",
    "    \n",
    "    def __repr__(self):\n",
    "        try:\n",
    "            display(self.image)\n",
    "        \n",
    "        finally:\n",
    "            return f\"size:{self.size} mode:{self.mode} shape:{self.shape}\"\n",
    "    \n",
    "    # PROPERTIES # -------------------------------------------------------------\n",
    "    @property\n",
    "    def mode(self) -> str:\n",
    "        return self.image.mode\n",
    "    \n",
    "    @property\n",
    "    def size(self) -> tuple[int, int]:\n",
    "        return self.image.size\n",
    "    \n",
    "    @property\n",
    "    def center(self) -> tuple[float, float]:\n",
    "        size = self.size\n",
    "        return size[0]/2, size[1]/2\n",
    "    \n",
    "    @property\n",
    "    def as_mask(self) -> Self:\n",
    "        \"\"\"Returns the Tile as a mask (only L channel).\n",
    "        Useful to ensure a mask is indeed a mask.\n",
    "        \n",
    "        Returns:\n",
    "            Tile: The converted Tile.\n",
    "        \"\"\"\n",
    "        \n",
    "        return Tile(self.image.convert('L'))\n",
    "    \n",
    "    @property\n",
    "    def as_array(self) -> np.typing.NDArray:\n",
    "        \"\"\"Returns the Tile as a numpy array.\n",
    "        Useful for matrix operations.\n",
    "        \n",
    "        Returns:\n",
    "            np.ndarray: The numpy array.\n",
    "        \"\"\"\n",
    "        \n",
    "        return np.array(self.image)\n",
    "    \n",
    "    # METHODS # ----------------------------------------------------------------\n",
    "    def copy(self) -> Self:\n",
    "        return Tile(self.image.copy(), self.shape)\n",
    "    \n",
    "    def display(self,\n",
    "            factor: float = 1.0,\n",
    "            resample: Image.Resampling = Image.Resampling.NEAREST,\n",
    "        ) -> None:\n",
    "        \n",
    "        display(ImageOps.scale(self.image, factor, resample))\n",
    "    \n",
    "    def invert(self) -> Self:\n",
    "        \"\"\"'invert' as in 'negative'\"\"\"\n",
    "        \n",
    "        image = ImageOps.invert(self.image)\n",
    "        \n",
    "        return Tile(image, self.shape)\n",
    "    \n",
    "    def rotate(self, angle: int, expand: bool = True) -> Self:\n",
    "        image = self.image.rotate(int(angle), expand=expand)\n",
    "        \n",
    "        return Tile(image, self.shape)\n",
    "    \n",
    "    def mirror(self, axis: Literal['|', '-', '/', '\\\\']) -> Self:\n",
    "        \"\"\"Mirrors the Tile in the horizontal, vertical or diagonal directions.  \n",
    "        \n",
    "        Args:\n",
    "            axis ('-', '|', '/', '\\\\'): Which axis to mirror the image.\n",
    "        \n",
    "        Returns:\n",
    "            Tile: The mirrored Tile.\n",
    "        \"\"\"\n",
    "        \n",
    "        match axis:\n",
    "            case '-':  image = ImageOps.flip(self.image)\n",
    "            case '|':  image = ImageOps.mirror(self.image)\n",
    "            case '\\\\': image = self.image.transpose(Image.Transpose.TRANSPOSE)\n",
    "            case '/':  image = self.image.transpose(Image.Transpose.TRANSVERSE)\n",
    "            case _:    image = self.image.copy()\n",
    "        \n",
    "        return Tile(image, self.shape)\n",
    "    \n",
    "    def scale(self,\n",
    "            factor: float | tuple[float, float],\n",
    "            resample: Image.Resampling = Image.Resampling.NEAREST,\n",
    "        ) -> Self:\n",
    "        \"\"\"'scale' as in 'stretch by factor(x,y) or factor(x==y)'\"\"\"\n",
    "        \n",
    "        if isinstance(factor, (int, float)):\n",
    "            image = ImageOps.scale(self.image, factor, resample)\n",
    "        \n",
    "        elif isinstance(factor, tuple):\n",
    "            newsize = (\n",
    "                int(self.size[0] * factor[0]),\n",
    "                int(self.size[1] * factor[1]))\n",
    "            image = self.image.resize(newsize, resample)\n",
    "        \n",
    "        else:\n",
    "            print(f\"Strange parameters\")\n",
    "            image = self.image.copy()\n",
    "        \n",
    "        return Tile(image, self.shape)\n",
    "    \n",
    "    def filter(self,\n",
    "            filters: ImageFilter.Filter | list[ImageFilter.Filter],\n",
    "            padding: int = 4,\n",
    "        ) -> Self:\n",
    "        \n",
    "        w, h = self.size\n",
    "        \n",
    "        # Pads the image with itself to avoid filter bleeding\n",
    "        image = self.take((w-padding, h-padding), (w+padding*2, h+padding*2)).image\n",
    "        \n",
    "        filters = coalesce(filters, list)\n",
    "        for f in filters:\n",
    "            image = image.filter(f)\n",
    "        \n",
    "        # Crops the extra border, restoring the original size\n",
    "        image = ImageOps.crop(image, padding)\n",
    "        \n",
    "        return Tile(image, self.shape)\n",
    "    \n",
    "    def enhance(self, enhancer: ImageEnhance._Enhance, factor: float = 1.0) -> Self:\n",
    "        image = enhancer(self.image).enhance(factor)\n",
    "        \n",
    "        return Tile(image, self.shape)\n",
    "    \n",
    "    def cutout(self, mask: Self) -> Self:\n",
    "        \"\"\"'cutout' as in 'cookie cutter'\"\"\"\n",
    "        \n",
    "        image = self.image.copy()\n",
    "        image.putalpha(mask.as_mask.image)\n",
    "        \n",
    "        return Tile(image, mask.shape)\n",
    "    \n",
    "    def crop(self, box: tuple[int, int, int, int]) -> Self:\n",
    "        image = self.image.crop(box)\n",
    "        \n",
    "        return Tile(image, self.shape)\n",
    "    \n",
    "    def take(self, pos: tuple[int, int], size: tuple[int, int]) -> Self:\n",
    "        x0, y0 = pos\n",
    "        width, height = size\n",
    "        wrap_width, wrap_height = self.size\n",
    "        \n",
    "        xidx = (np.arange(x0, x0+width)  % wrap_width)\n",
    "        yidx = (np.arange(y0, y0+height) % wrap_height)\n",
    "        \n",
    "        crop = self.as_array[np.ix_(yidx, xidx)]\n",
    "        \n",
    "        return Tile(crop)\n",
    "    \n",
    "    def offset(self, offset: tuple[int, int]) -> Self:\n",
    "        width, height = self.size\n",
    "        offx, offy = offset\n",
    "        \n",
    "        posx = (width + offx) % width\n",
    "        posy = (height + offy) % height\n",
    "        \n",
    "        return self.take((posx, posy), self.size)\n",
    "    \n",
    "    def multiply(self, color_tile: Self) -> Self:\n",
    "        image = ImageChops.multiply(self.image, color_tile.image)\n",
    "        \n",
    "        return Tile(image, self.shape)\n",
    "\n",
    "\n",
    "\n",
    "class TileOps:\n",
    "    # STATIC METHODS # ---------------------------------------------------------\n",
    "    @staticmethod\n",
    "    def create_symmetrical_outline(\n",
    "            size: tuple[int, int],\n",
    "            lines: list[tuple[tuple[float]]],\n",
    "            **kwargs,\n",
    "        ) -> Image.Image:\n",
    "        \n",
    "        image = Image.new(\"L\", size, 0)\n",
    "        draw  = ImageDraw.Draw(image)\n",
    "        \n",
    "        for line in lines:\n",
    "            draw.line(line, fill=255)\n",
    "        \n",
    "        image.paste(ImageOps.flip(image), mask=ImageOps.invert(image))\n",
    "        image.paste(ImageOps.mirror(image), mask=ImageOps.invert(image))\n",
    "        \n",
    "        return image\n",
    "    \n",
    "    @staticmethod\n",
    "    def create_mask_from_outline(\n",
    "            base: Image.Image,\n",
    "            **kwargs,\n",
    "        ) -> Image.Image:\n",
    "        \n",
    "        mask = base.copy()\n",
    "        width, height = mask.size\n",
    "        \n",
    "        ImageDraw.floodfill(mask, (width / 2, height / 2), 255)\n",
    "        \n",
    "        return mask\n",
    "    \n",
    "    @staticmethod\n",
    "    def overlay_tiles(base: Tile, head: Tile, mask: Tile = None, alpha: float = 0.5) -> Tile:\n",
    "        \"\"\"Merges two tiles into a new one.\n",
    "        Must have a MASK or alpha value (default, 0.5).\n",
    "        \n",
    "        If using a MASK, it must have the same dimensions as both DATA Tiles.\n",
    "        The pixel values from the MASK range from 0 (full base) to 255 (full head).\n",
    "        \n",
    "        The alpha value is used if no MASK is present.\n",
    "        Its value is applied to the Tiles as a whole, not by pixel.\n",
    "        \n",
    "        Args:\n",
    "            base (Tile): The Tile that goes on the bottom.\n",
    "            head (Tile): The Tile that goes on top.\n",
    "            mask (Tile, optional): A special Tile that controls how each pixel is merged. Defaults to None.\n",
    "            alpha (float, optional): A value that controls how all pixels are merged. Defaults to 0.5.\n",
    "        \n",
    "        Returns:\n",
    "            Tile: A new Tile resulting from the combination of both Tiles.\n",
    "        \"\"\"\n",
    "        \n",
    "        if mask is None:\n",
    "            image = Image.blend(base.image, head.image, alpha)\n",
    "            shape = base.shape\n",
    "        \n",
    "        else:\n",
    "            image = Image.composite(head.image, base.image, mask.as_mask.image)\n",
    "            shape = mask.shape\n",
    "        \n",
    "        return Tile(image, shape)\n",
    "    \n",
    "    @staticmethod\n",
    "    def merge_tiles(*tiles: tuple[Tile, Tile]) -> Tile:\n",
    "        \"\"\"\n",
    "        tiles = [(tile, mask), (tile, mask), ...]\n",
    "        \"\"\"\n",
    "        REFTILE = tiles[0][0]\n",
    "        REFMASK = tiles[-1][1]\n",
    "        SIZE = REFTILE.size\n",
    "        \n",
    "        image = Image.new('RGBA', SIZE, (0, 0, 0, 0))\n",
    "        \n",
    "        for tile, mask in tiles:\n",
    "            image.paste(tile.image, mask=mask.as_mask.image)\n",
    "        \n",
    "        return Tile(image, REFMASK.shape)\n",
    "    \n",
    "    @staticmethod\n",
    "    def merge_masks(*masks: Tile) -> Tile:\n",
    "        \"\"\"Adds several MASKs together.\n",
    "        Their values are combined with bitwise OR.\n",
    "        \n",
    "        Returns:\n",
    "            Tile: A single Tile MASK\n",
    "        \"\"\"\n",
    "        \n",
    "        assert len(masks) >= 2, \"Insufficient masks to be merged (<2)\"\n",
    "        \n",
    "        base = masks[0].as_mask.as_array\n",
    "        \n",
    "        for mask in masks[1:]:\n",
    "            base |= mask.as_mask.as_array\n",
    "        \n",
    "        return Tile(base, masks[-1].shape)\n",
    "    \n",
    "    @staticmethod\n",
    "    def shade_tile(\n",
    "            base: Tile,\n",
    "            pattern_mask: Tile,\n",
    "            offset: tuple[int, int],\n",
    "            brightness: float = 1.0,\n",
    "            ordered: bool = True,\n",
    "        ) -> Tile:\n",
    "        \n",
    "        offset_mask = pattern_mask.offset(offset).invert()\n",
    "        base_adjusted = base.enhance(ImageEnhance.Brightness, brightness)\n",
    "        \n",
    "        if ordered: # inverts which is overlaid on the other for double shades\n",
    "            base, base_adjusted = base_adjusted, base\n",
    "        base_shaded = TileOps.overlay_tiles(base, base_adjusted, offset_mask)\n",
    "        \n",
    "        return base_shaded\n",
    "\n",
    "\n",
    "\n",
    "class TileGen:\n",
    "    # MASK GENERATORS # --------------------------------------------------------\n",
    "    @staticmethod\n",
    "    def gen_ort_mask(size: int | tuple[int, int], **kwargs) -> Tile:\n",
    "        \"\"\" Generates an orthogonal mask Tile given the size. \"\"\"\n",
    "        \n",
    "        if isinstance(size, int):\n",
    "            size = (size, size)\n",
    "        \n",
    "        mask_image = Image.new('L', size, 255)\n",
    "        \n",
    "        return Tile(mask_image)\n",
    "    \n",
    "    @staticmethod\n",
    "    def gen_iso_mask(size: int | tuple[int, int], **kwargs) -> Tile:\n",
    "        \"\"\"Generates an isometric mask Tile given the size.\n",
    "        \"\"\"\n",
    "        \n",
    "        if isinstance(size, int):\n",
    "            size = size//2\n",
    "            W, H = size*2, size\n",
    "        else:\n",
    "            W, H = size\n",
    "        \n",
    "        lines = [\n",
    "            ((0, H/2-1), (W/2-1, 0)), # top-left diagonal\n",
    "        ]\n",
    "        \n",
    "        outline = TileOps.create_symmetrical_outline((W, H), lines, **kwargs)\n",
    "        mask_image = TileOps.create_mask_from_outline(outline)\n",
    "        \n",
    "        return Tile(mask_image, 'iso')\n",
    "    \n",
    "    @staticmethod\n",
    "    def gen_hex_mask(\n",
    "            size: int | tuple[int, int],\n",
    "            top: Literal[\"flat\", \"point\"] = \"flat\",\n",
    "            grain: int = 4,\n",
    "            **kwargs\n",
    "        ) -> Tile:\n",
    "        \n",
    "        if isinstance(size, int):\n",
    "            assert size % 2 == 0, \"Size must be even numbered\"\n",
    "            \n",
    "            SQRT3BY2 = 0.866\n",
    "            size = size, int(snap(size*SQRT3BY2, grain)) # nearest multiple of grain\n",
    "        \n",
    "        \n",
    "        # It's easier to always create as a flat top and rotate later\n",
    "        width, height = size\n",
    "        \n",
    "        # Markers (Q.uarter, M.iddle)\n",
    "        QW, MW = width/4, width/2\n",
    "        QH, MH = height/4, height/2\n",
    "        \n",
    "        # Small correction for widths 8 and 12 (outliers)\n",
    "        if width in (8, 12):\n",
    "            QW += 0.5\n",
    "        \n",
    "        lines = [\n",
    "            ((0.5, MH-0.5), (QW-0.5, 0.5)), # top-left diagonal\n",
    "            ((QW+0.5, 0.5), (MW, 0.5)), # top line\n",
    "        ]\n",
    "        \n",
    "        outline = TileOps.create_symmetrical_outline((width, height), lines, **kwargs)\n",
    "        mask_image = TileOps.create_mask_from_outline(outline)\n",
    "        \n",
    "        if top == 'point':\n",
    "            mask_image = mask_image.rotate(90, expand=True)\n",
    "        \n",
    "        return Tile(mask_image, f'hex.{top}')\n",
    "    \n",
    "    @staticmethod\n",
    "    def gen_shape_mask(\n",
    "            size: int | tuple[int, int],\n",
    "            shape: Shapes,\n",
    "            **params: dict[str, Any],\n",
    "        ) -> Tile:\n",
    "        \n",
    "        if '.' in shape:\n",
    "            shape, sdev = shape.split('.')\n",
    "        \n",
    "        match shape:\n",
    "            case 'ort':\n",
    "                return TileGen.gen_ort_mask(size, **params)\n",
    "            \n",
    "            case 'iso':\n",
    "                return TileGen.gen_iso_mask(size, **params)\n",
    "            \n",
    "            case 'hex':\n",
    "                return TileGen.gen_hex_mask(size, sdev, **params)\n",
    "            \n",
    "            case _:\n",
    "                return Tile(None)\n",
    "    \n",
    "    # IMAGE GENERATORS # -------------------------------------------------------\n",
    "    @staticmethod\n",
    "    def gen_random_rgb(\n",
    "            size: tuple[int, int],\n",
    "            ranges: list[tuple[int, int]],\n",
    "            mode: Literal['minmax', 'avgdev'] = 'minmax',\n",
    "        ) -> Tile:\n",
    "        \"\"\" Generates a random RGB Tile from the channels ranges. \"\"\"\n",
    "        \n",
    "        size = size[1], size[0]\n",
    "        \n",
    "        if mode == 'minmax':\n",
    "            image = (Image.fromarray(\n",
    "                np.stack((\n",
    "                    np.random.randint(ranges[0][0], ranges[0][1], size, dtype=np.uint8),\n",
    "                    np.random.randint(ranges[1][0], ranges[1][1], size, dtype=np.uint8),\n",
    "                    np.random.randint(ranges[2][0], ranges[2][1], size, dtype=np.uint8),\n",
    "                ), axis=-1),\n",
    "                'RGB')\n",
    "            )\n",
    "        \n",
    "        elif mode == 'avgdev':\n",
    "            image = (Image.fromarray(\n",
    "                np.stack((\n",
    "                    np.random.randint(ranges[0][0]-ranges[0][1], ranges[0][0]+ranges[0][1], size, dtype=np.uint8),\n",
    "                    np.random.randint(ranges[1][0]-ranges[1][1], ranges[1][0]+ranges[1][1], size, dtype=np.uint8),\n",
    "                    np.random.randint(ranges[2][0]-ranges[2][1], ranges[2][0]+ranges[2][1], size, dtype=np.uint8),\n",
    "                ), axis=-1),\n",
    "                'RGB')\n",
    "            )\n",
    "        \n",
    "        return Tile(image)\n",
    "    \n",
    "    @staticmethod\n",
    "    def gen_random_mask(\n",
    "            size: tuple[int, int],\n",
    "            vrange: tuple[int, int],\n",
    "        ) -> Tile:\n",
    "        \"\"\" Generates a random Mask Tile\"\"\"\n",
    "        \n",
    "        image = Image.fromarray(np.stack(\n",
    "            np.random.randint(vrange[0], vrange[1], size, dtype=np.uint8), axis=-1), 'L')\n",
    "        \n",
    "        return Tile(image)\n",
    "    \n",
    "    @staticmethod\n",
    "    def gen_texture_tile(\n",
    "            size: int | tuple[int, int],\n",
    "            texture_name: str,\n",
    "            **kwargs,\n",
    "        ) -> Tile:\n",
    "        \n",
    "        if isinstance(size, int):\n",
    "            size = (size, size)\n",
    "        \n",
    "        FULL_SIZE = size\n",
    "        HALF_SIZE = size[0]//2, size[1]//2\n",
    "        HALF_WIDTH = size[0]//2, size[1]\n",
    "        QUARTER_HEIGHT = size[0], size[1]//4\n",
    "        \n",
    "        tile: Tile = None\n",
    "        \n",
    "        match texture_name.lower():\n",
    "            case 'grass':\n",
    "                tile = (TileGen\n",
    "                    .gen_random_rgb(FULL_SIZE, ((48, 64), (64, 108), (24, 32)))\n",
    "                    .filter([ImageFilter.SMOOTH_MORE])\n",
    "                    .enhance(ImageEnhance.Color, 0.9)\n",
    "                )\n",
    "            case 'grass.dry': # path\n",
    "                tile = (TileGen\n",
    "                    .gen_random_rgb(FULL_SIZE, ((80, 8), (80, 8), (24, 4)), 'avgdev')\n",
    "                    .filter([ImageFilter.SMOOTH_MORE])\n",
    "                    .enhance(ImageEnhance.Color, 0.66)\n",
    "                )\n",
    "            case 'grass.wet': # moss\n",
    "                tile = (TileGen\n",
    "                    .gen_random_rgb(FULL_SIZE, ((48, 4), (64, 4), (24, 4)), 'avgdev')\n",
    "                    #.filter([ImageFilter.SMOOTH_MORE])\n",
    "                )\n",
    "            \n",
    "            case 'water':\n",
    "                tile = (TileGen\n",
    "                    .gen_random_rgb(HALF_WIDTH, ((24, 32), (32, 48), (80, 120)))\n",
    "                    .scale((2, 1))\n",
    "                    .filter([ImageFilter.SMOOTH, ImageFilter.SMOOTH])\n",
    "                )\n",
    "            case 'water.shallow': # puddle\n",
    "                tile = (TileGen\n",
    "                    .gen_random_rgb(FULL_SIZE, ((64, 8), (72, 8), (120, 12)), 'avgdev')\n",
    "                    .filter([ImageFilter.SMOOTH, ImageFilter.SMOOTH])\n",
    "                )\n",
    "            \n",
    "            case 'dirt':\n",
    "                tile = (TileGen\n",
    "                    .gen_random_rgb(FULL_SIZE, ((140, 160), (100, 120), (64, 80)))\n",
    "                    .filter([ImageFilter.SMOOTH_MORE])\n",
    "                )\n",
    "            case 'dirt.wet': # mud\n",
    "                tile = (TileGen\n",
    "                    .gen_random_rgb(FULL_SIZE, ((100, 6), (72, 6), (56, 4)), 'avgdev')\n",
    "                    .filter([ImageFilter.SMOOTH])\n",
    "                )\n",
    "            \n",
    "            case 'sand':\n",
    "                tile = (TileGen\n",
    "                    .gen_random_rgb(FULL_SIZE, ((240, 255), (200, 220), (180, 192)))\n",
    "                    .filter([ImageFilter.SMOOTH])\n",
    "                    # .enhance(ImageEnhance.Color, 0.2)\n",
    "                )\n",
    "            case 'clay':\n",
    "                tile = (TileGen\n",
    "                    .gen_random_rgb(FULL_SIZE, ((108, 120), (64, 80), (48, 64)))\n",
    "                    .filter([ImageFilter.SMOOTH_MORE])\n",
    "                )\n",
    "            \n",
    "            case 'stone':\n",
    "                tile = (TileGen\n",
    "                    .gen_random_rgb(HALF_SIZE, ((100, 112), (100, 112), (100, 112)))\n",
    "                    .scale(2, Image.Resampling.NEAREST)\n",
    "                    .enhance(ImageEnhance.Color, 0.2)\n",
    "                )\n",
    "            case 'gravel':\n",
    "                tile = (TileGen\n",
    "                    .gen_random_rgb(FULL_SIZE, ((96, 48), (96, 48), (96, 12)), 'avgdev')\n",
    "                    .filter([ImageFilter.SMOOTH_MORE])\n",
    "                    .enhance(ImageEnhance.Color, 0.05)\n",
    "                )\n",
    "            \n",
    "            case 'wood':\n",
    "                tile = (TileGen\n",
    "                    .gen_random_rgb(QUARTER_HEIGHT, ((80, 8), (32, 6), (16, 4)), 'avgdev')\n",
    "                    .scale((1, 4))\n",
    "                    .filter([ImageFilter.BLUR])\n",
    "                    .enhance(ImageEnhance.Contrast, 0.666)\n",
    "                    .enhance(ImageEnhance.Color, 0.666)\n",
    "                    .enhance(ImageEnhance.Brightness, 1.333)\n",
    "                )\n",
    "            \n",
    "            # case '':\n",
    "            #     return\n",
    "            \n",
    "            case _:\n",
    "                tile = Tile()\n",
    "        \n",
    "        return tile\n",
    "    \n",
    "    @staticmethod\n",
    "    def gen_brick_pattern_mask(\n",
    "            size: tuple[int, int],\n",
    "            brick_size: tuple[int, int],\n",
    "            gap_width: int = 0,\n",
    "            edge_width: int = 0,\n",
    "            **params: dict[str, Any],\n",
    "        ) -> Tile:\n",
    "        \"\"\"Works with:\n",
    "        ```\n",
    "        gap_width  | 1 | 2 | 3 | 4 | 5 | 6 | ...\n",
    "        edge_width | * | * | * | X | * | ? | ...\n",
    "        ```\n",
    "        \"\"\"\n",
    "        \n",
    "        MW, MH = size       # Mask Width and Height\n",
    "        BW, BH = brick_size # Brick Width and Height\n",
    "        BRW = MW + 2*BW     # Brick Row Width\n",
    "        HBW = BW//2         # Half Brick Width\n",
    "        BASE_VALUE = params.get('base_value', 0)\n",
    "        FILL_VALUE = params.get('fill_value', 255)\n",
    "        ROW_OFFSET = params.get('row_offset', HBW)\n",
    "        INVERT     = params.get('invert', True)\n",
    "        \n",
    "        brick_template = Image.new('L', brick_size, BASE_VALUE)\n",
    "        brick_temp_canv = ImageDraw.Draw(brick_template)\n",
    "        brick_temp_canv.line(((0.5, 0.5), (BW+0.5, 0.5)), FILL_VALUE, gap_width)\n",
    "        brick_temp_canv.line(((HBW+0.5, 0.5), (HBW+0.5, BH+0.5)), FILL_VALUE, gap_width)\n",
    "        \n",
    "        # Some fuckery, don't mess with it\n",
    "        if edge_width:\n",
    "            CO = gap_width / 2 if gap_width % 2 == 0 else 0.5 * gap_width\n",
    "            polyconf = dict(n_sides=4, rotation=45, fill=FILL_VALUE)\n",
    "            \n",
    "            rad = edge_width + gap_width\n",
    "            brick_temp_canv.regular_polygon((HBW+0.5, 0.5, rad), **polyconf)\n",
    "            brick_temp_canv.regular_polygon((HBW+0.5, BH+CO, rad), **polyconf)\n",
    "            \n",
    "            if gap_width % 2 == 0:\n",
    "                brick_temp_canv.regular_polygon((HBW+CO+0.5, 0.5, rad), **polyconf)\n",
    "                brick_temp_canv.regular_polygon((HBW+CO+0.5, BH+CO+0.5, rad), **polyconf)\n",
    "        \n",
    "        # Builds the single brick row with the single brick template\n",
    "        brick_row = Image.new('L', (BRW, BH), BASE_VALUE)\n",
    "        for col in range(0, BRW, BW):\n",
    "            brick_row.paste(brick_template, (col, 0))\n",
    "        \n",
    "        # Pastes the brick row template on each new row\n",
    "        # The offset can be overriden with `row_offset=<int>`\n",
    "        mask_image  = Image.new(\"L\", size, BASE_VALUE)\n",
    "        \n",
    "        for cnt, row in enumerate(range(0, MH, BH)):\n",
    "            offset = (cnt % 2) * ROW_OFFSET - (HBW + BW)\n",
    "            \n",
    "            mask_image.paste(brick_row, (offset, row))\n",
    "        \n",
    "        if INVERT:\n",
    "            mask_image = ImageOps.invert(mask_image)\n",
    "        \n",
    "        return Tile(mask_image)\n",
    "    \n",
    "    @staticmethod\n",
    "    def gen_line_draw_mask(\n",
    "            size: tuple[int, int],\n",
    "            lines: Sequence[tuple[float, float, float, float]],\n",
    "            **params: dict[str, Any],\n",
    "        ) -> Tile:\n",
    "        \"\"\"\n",
    "        ```\n",
    "        size = (10, 10)\n",
    "        lines = [\n",
    "            ((x0, y0), (x1, y1), width),\n",
    "            ...\n",
    "        ]\n",
    "        ```\n",
    "        \"\"\"\n",
    "        \n",
    "        BASE_VALUE = params.get('base_value', 0)\n",
    "        FILL_VALUE = params.get('fill_value', 255)\n",
    "        INVERT = params.get('invert', True)\n",
    "        \n",
    "        mask_image = Image.new('L', size, BASE_VALUE)\n",
    "        canvas = ImageDraw.Draw(mask_image)\n",
    "        \n",
    "        for line in lines:\n",
    "            p0, p1, width = line\n",
    "            canvas.line((p0, p1), FILL_VALUE, width)\n",
    "        \n",
    "        if INVERT:\n",
    "            mask_image = ImageOps.invert(mask_image)\n",
    "        \n",
    "        return Tile(mask_image)\n",
    "\n",
    "\n",
    "def combine_masks(\n",
    "        mask_info: dict[str, Tile]\n",
    "    ) -> tuple[str, Tile]:\n",
    "    \n",
    "    if not mask_info:\n",
    "        return\n",
    "    \n",
    "    mask_data = mask_info.copy()\n",
    "    base_edge, base_mask = mask_data.popitem()\n",
    "    \n",
    "    for edge, mask in mask_data.items():\n",
    "        base_edge = combine_choices(base_edge, edge)\n",
    "        base_mask = TileOps.merge_masks(base_mask, mask)\n",
    "    \n",
    "    return base_edge, base_mask\n",
    "\n",
    "\n",
    "class TileMasker:\n",
    "    def __init__(self, shape: Shapes, masks: dict[str, Tile] = None):\n",
    "        self.shape: Shapes = shape\n",
    "        self.masks: dict[str, Tile] = masks if masks is not None else {}\n",
    "    \n",
    "    def define(self, mask: Tile) -> str:\n",
    "        pass\n",
    "    \n",
    "    def generate(self) -> Self:\n",
    "        pass\n",
    "    \n",
    "    def find(self, edges: str) -> Tile:\n",
    "        choices = match_choice(edges, self.masks.keys())\n",
    "        if choices:\n",
    "            choice = self.masks.get(choices[0])\n",
    "            print(f\"First try: {choice}\")\n",
    "            return choice\n",
    "        \n",
    "        choice = match_closest_choice(edges, self.masks.keys())\n",
    "        if choice is not None:\n",
    "            print(f\"Second try: {choice}\")\n",
    "            return self.masks.get(choice)\n",
    "        \n",
    "        print(f\"Fuck\")\n",
    "        return Tile()\n",
    "    \n",
    "    def import_from(self, path: str) -> Self:\n",
    "        pass\n",
    "    \n",
    "    def export_to(self, path: str, count: int, pad: int, **params) -> None:\n",
    "        pass\n",
    "    \n",
    "\n",
    "\n",
    "class OrthogonalMasker(TileMasker):\n",
    "    def __init__(self, masks = None):\n",
    "        super().__init__('ort', masks)\n",
    "    \n",
    "    @staticmethod\n",
    "    def generate(\n",
    "            corner_NW: Tile = None,\n",
    "            border_N: Tile = None,\n",
    "            curve_NW: Tile = None,\n",
    "        ) -> TileMasker:\n",
    "        \"\"\"\n",
    "        asdasdasd\n",
    "        \n",
    "        ```\n",
    "        corner_NW | border_N | curve_NW\n",
    "        1 0 0     | 1 1 1    | 1 1 .\n",
    "        0   0     | 0   0    | 1   0\n",
    "        0 0 0     | 0 0 0    | . 0 0\n",
    "        ```\n",
    "        \"\"\"\n",
    "        \n",
    "        masks: dict[str, Tile] = {}\n",
    "        \n",
    "        # General Parameters\n",
    "        ROT_PARAMS = TILE_MOVE_PARAMS['ort']['rotation']\n",
    "        ANGLES = ROT_PARAMS.keys()\n",
    "        \n",
    "        SIMPLE_COMBOS: list[tuple[str, Tile, list[list[int]]]] = (\n",
    "            ( # Generates all possible angle combinations for corners\n",
    "                '10000000', corner_NW, [\n",
    "                    item for s in range(1, 4+1)\n",
    "                    for item in combinations(ANGLES, s)\n",
    "                ]\n",
    "            ),\n",
    "            (\n",
    "                '.1.00000', border_N, [\n",
    "                    (0,), (90,), (180,), (270,),                # 4 sides\n",
    "                    (0, 180), (90, 270),                        # channels\n",
    "                ]\n",
    "            ),\n",
    "            (\n",
    "                '11.000.1', curve_NW, [\n",
    "                    (0,), (90,), (180,), (270,),                # 4 sides\n",
    "                    (0, 90), (90, 180), (180, 270), (270, 0),   # dead ends\n",
    "                    (0, 90, 180, 270,),                         # full circle\n",
    "                ]\n",
    "            ),\n",
    "        )\n",
    "        \n",
    "        # Each mask piece is combined with itself in multiple ways\n",
    "        for base_edge, base_tile, combos in SIMPLE_COMBOS:\n",
    "            for combo in combos:\n",
    "                temp_masks: dict[str, Tile] = {}\n",
    "                for angle in combo:\n",
    "                    edge = shift_string(base_edge, *ROT_PARAMS[angle])\n",
    "                    mask = base_tile.rotate(angle)\n",
    "                    temp_masks[edge] = mask\n",
    "                \n",
    "                full_edge, full_mask = combine_masks(temp_masks)\n",
    "                masks[full_edge] = full_mask\n",
    "        \n",
    "        COMBINED_COMBOS: list[tuple[str, str]] = [\n",
    "            ('10000000', '00.1.000'), # upper-left corner + right border\n",
    "            ('00000010', '00.1.000'), # lower-left corner + right border\n",
    "            ('10000010', '00.1.000'), # both left corners + right border\n",
    "            ('10000000', '00.111.0'), # upper-left corner + lower-right curve\n",
    "        ]\n",
    "        \n",
    "        # Mask pieces are combined and rotated to complete the masks\n",
    "        for combo in COMBINED_COMBOS:\n",
    "            edge_masks: dict[str, Tile] = {edge: masks[edge] for edge in combo}\n",
    "            temp_edge, temp_mask = combine_masks(edge_masks)\n",
    "            \n",
    "            for angle in ANGLES:\n",
    "                edge = shift_string(temp_edge, *ROT_PARAMS[angle])\n",
    "                mask = temp_mask.rotate(angle)\n",
    "                masks[edge] = mask\n",
    "        \n",
    "        return OrthogonalMasker(masks)\n",
    "    \n",
    "    def export_to(self,\n",
    "            path: str,\n",
    "            count: Literal[14, 15, 47] = 14,\n",
    "            pad: int = 0,\n",
    "            **params,\n",
    "        ) -> None:\n",
    "        \n",
    "        base_size = self.masks['10000000'].size\n",
    "        if count in (14, 15):\n",
    "            size = (base_size[0]+pad)*4+pad, (base_size[1]+pad)*4+pad\n",
    "        elif count == 47:\n",
    "            size = (base_size[0]+pad)*12+pad, (base_size[1]+pad)*4+pad\n",
    "        \n",
    "        base_image = Image.new('L', size, 128)\n",
    "        \n",
    "        TILE_ORDERING: dict[int, dict[str, tuple[int, int]]] = {\n",
    "            14: {\n",
    "                '00000010': (0, 0), '00.1.000': (1, 0), '.000.111': (2, 0), '0000.1.0': (3, 0),\n",
    "                '10001000': (0, 1), '00.111.0': (1, 1),                     '11.000.1': (3, 1),\n",
    "                '00100000': (0, 2), '.1.00000': (1, 2), '.111.000': (2, 2), '.00000.1': (3, 2),\n",
    "                                    '00001000': (1, 3), '00100010': (2, 3), '10000000': (3, 3),\n",
    "            },\n",
    "            15: {\n",
    "                '1111.0.1': (0, 0), '11.000.1': (1, 0), '.1.00000': (2, 0), '.111.000': (3, 0),\n",
    "                '.0.1.0.1': (0, 1), '.00000.1': (1, 1),                     '00.1.000': (3, 1),\n",
    "                '.0.11111': (0, 2), '.000.111': (1, 2), '0000.1.0': (2, 2), '00.111.0': (3, 2),\n",
    "                '11111111': (0, 3), '11.0.111': (1, 3), '.1.0.1.0': (2, 3), '.11111.0': (3, 3),\n",
    "            }\n",
    "        }\n",
    "        \n",
    "        for edge, pos in TILE_ORDERING.get(count).items():\n",
    "            mask_image = self.masks[edge].as_mask.image\n",
    "            ppos = (\n",
    "                pos[0]*(base_size[0] + pad)+pad,\n",
    "                pos[1]*(base_size[1] + pad)+pad)\n",
    "            \n",
    "            base_image.paste(mask_image, ppos)\n",
    "        \n",
    "        return base_image\n",
    "\n",
    "tm = OrthogonalMasker.generate(\n",
    "    Tile(\"./masks/corner_NW.png\").as_mask,\n",
    "    Tile(\"./masks/border_N.png\").as_mask,\n",
    "    Tile(\"./masks/curve_NW.png\").as_mask,\n",
    ")\n",
    "\n",
    "display_image(tm.export_to('./tileset.png', 14, 2), 4)\n",
    "display_image(tm.export_to('./tileset.png', 15, 2), 4)"
   ]
  },
  {
   "cell_type": "code",
   "execution_count": 70,
   "id": "9e90fb76",
   "metadata": {},
   "outputs": [
    {
     "name": "stdout",
     "output_type": "stream",
     "text": [
      "r0=(1, 1, 1)\n",
      "r1=(1, 0, 0)\n",
      "r2=(1, 0, 1)\n",
      "slc=(1, 1, 1, 1, 0, 0, 1, 0, 1)\n",
      "edg='11101011'\n"
     ]
    },
    {
     "data": {
      "image/jpeg": "[encoded data removed]",
      "image/png": "[encoded data removed]",
      "text/plain": [
       "<PIL.Image.Image image mode=L size=24x24>"
      ]
     },
     "metadata": {},
     "output_type": "display_data"
    },
    {
     "name": "stdout",
     "output_type": "stream",
     "text": [
      "First try: size:(24, 24) mode:L shape:ort.square\n"
     ]
    },
    {
     "data": {
      "image/jpeg": "[encoded data removed]",
      "image/png": "[encoded data removed]",
      "text/plain": [
       "<PIL.Image.Image image mode=L size=96x96>"
      ]
     },
     "metadata": {},
     "output_type": "display_data"
    }
   ],
   "source": [
    "slc = slice_tilemap(TEST_SET, 1, 1)\n",
    "print(f\"{slc=}\")\n",
    "edg = slice_to_edges(*slc)\n",
    "print(f\"{edg=}\")\n",
    "tm.find(edg).display(4)"
   ]
  },
  {
   "cell_type": "code",
   "execution_count": 55,
   "id": "4eef0276",
   "metadata": {},
   "outputs": [
    {
     "name": "stdout",
     "output_type": "stream",
     "text": [
      "10000000\n"
     ]
    },
    {
     "data": {
      "image/jpeg": "[encoded data removed]",
      "image/png": "[encoded data removed]",
      "text/plain": [
       "<PIL.Image.Image image mode=L size=48x48>"
      ]
     },
     "metadata": {},
     "output_type": "display_data"
    },
    {
     "name": "stdout",
     "output_type": "stream",
     "text": [
      "00000010\n"
     ]
    },
    {
     "data": {
      "image/jpeg": "[encoded data removed]",
      "image/png": "[encoded data removed]",
      "text/plain": [
       "<PIL.Image.Image image mode=L size=48x48>"
      ]
     },
     "metadata": {},
     "output_type": "display_data"
    },
    {
     "name": "stdout",
     "output_type": "stream",
     "text": [
      "00001000\n"
     ]
    },
    {
     "data": {
      "image/jpeg": "[encoded data removed]",
      "image/png": "[encoded data removed]",
      "text/plain": [
       "<PIL.Image.Image image mode=L size=48x48>"
      ]
     },
     "metadata": {},
     "output_type": "display_data"
    },
    {
     "name": "stdout",
     "output_type": "stream",
     "text": [
      "00100000\n"
     ]
    },
    {
     "data": {
      "image/jpeg": "[encoded data removed]",
      "image/png": "[encoded data removed]",
      "text/plain": [
       "<PIL.Image.Image image mode=L size=48x48>"
      ]
     },
     "metadata": {},
     "output_type": "display_data"
    },
    {
     "name": "stdout",
     "output_type": "stream",
     "text": [
      "10000010\n"
     ]
    },
    {
     "data": {
      "image/jpeg": "[encoded data removed]",
      "image/png": "[encoded data removed]",
      "text/plain": [
       "<PIL.Image.Image image mode=L size=48x48>"
      ]
     },
     "metadata": {},
     "output_type": "display_data"
    },
    {
     "name": "stdout",
     "output_type": "stream",
     "text": [
      "10001000\n"
     ]
    },
    {
     "data": {
      "image/jpeg": "[encoded data removed]",
      "image/png": "[encoded data removed]",
      "text/plain": [
       "<PIL.Image.Image image mode=L size=48x48>"
      ]
     },
     "metadata": {},
     "output_type": "display_data"
    },
    {
     "name": "stdout",
     "output_type": "stream",
     "text": [
      "10100000\n"
     ]
    },
    {
     "data": {
      "image/jpeg": "[encoded data removed]",
      "image/png": "[encoded data removed]",
      "text/plain": [
       "<PIL.Image.Image image mode=L size=48x48>"
      ]
     },
     "metadata": {},
     "output_type": "display_data"
    },
    {
     "name": "stdout",
     "output_type": "stream",
     "text": [
      "00001010\n"
     ]
    },
    {
     "data": {
      "image/jpeg": "[encoded data removed]",
      "image/png": "[encoded data removed]",
      "text/plain": [
       "<PIL.Image.Image image mode=L size=48x48>"
      ]
     },
     "metadata": {},
     "output_type": "display_data"
    },
    {
     "name": "stdout",
     "output_type": "stream",
     "text": [
      "00100010\n"
     ]
    },
    {
     "data": {
      "image/jpeg": "[encoded data removed]",
      "image/png": "[encoded data removed]",
      "text/plain": [
       "<PIL.Image.Image image mode=L size=48x48>"
      ]
     },
     "metadata": {},
     "output_type": "display_data"
    },
    {
     "name": "stdout",
     "output_type": "stream",
     "text": [
      "00101000\n"
     ]
    },
    {
     "data": {
      "image/jpeg": "[encoded data removed]",
      "image/png": "[encoded data removed]",
      "text/plain": [
       "<PIL.Image.Image image mode=L size=48x48>"
      ]
     },
     "metadata": {},
     "output_type": "display_data"
    },
    {
     "name": "stdout",
     "output_type": "stream",
     "text": [
      "10001010\n"
     ]
    },
    {
     "data": {
      "image/jpeg": "[encoded data removed]",
      "image/png": "[encoded data removed]",
      "text/plain": [
       "<PIL.Image.Image image mode=L size=48x48>"
      ]
     },
     "metadata": {},
     "output_type": "display_data"
    },
    {
     "name": "stdout",
     "output_type": "stream",
     "text": [
      "10100010\n"
     ]
    },
    {
     "data": {
      "image/jpeg": "[encoded data removed]",
      "image/png": "[encoded data removed]",
      "text/plain": [
       "<PIL.Image.Image image mode=L size=48x48>"
      ]
     },
     "metadata": {},
     "output_type": "display_data"
    },
    {
     "name": "stdout",
     "output_type": "stream",
     "text": [
      "10101000\n"
     ]
    },
    {
     "data": {
      "image/jpeg": "[encoded data removed]",
      "image/png": "[encoded data removed]",
      "text/plain": [
       "<PIL.Image.Image image mode=L size=48x48>"
      ]
     },
     "metadata": {},
     "output_type": "display_data"
    },
    {
     "name": "stdout",
     "output_type": "stream",
     "text": [
      "00101010\n"
     ]
    },
    {
     "data": {
      "image/jpeg": "[encoded data removed]",
      "image/png": "[encoded data removed]",
      "text/plain": [
       "<PIL.Image.Image image mode=L size=48x48>"
      ]
     },
     "metadata": {},
     "output_type": "display_data"
    },
    {
     "name": "stdout",
     "output_type": "stream",
     "text": [
      "10101010\n"
     ]
    },
    {
     "data": {
      "image/jpeg": "[encoded data removed]",
      "image/png": "[encoded data removed]",
      "text/plain": [
       "<PIL.Image.Image image mode=L size=48x48>"
      ]
     },
     "metadata": {},
     "output_type": "display_data"
    },
    {
     "name": "stdout",
     "output_type": "stream",
     "text": [
      ".1.00000\n"
     ]
    },
    {
     "data": {
      "image/jpeg": "[encoded data removed]",
      "image/png": "[encoded data removed]",
      "text/plain": [
       "<PIL.Image.Image image mode=L size=48x48>"
      ]
     },
     "metadata": {},
     "output_type": "display_data"
    },
    {
     "name": "stdout",
     "output_type": "stream",
     "text": [
      ".00000.1\n"
     ]
    },
    {
     "data": {
      "image/jpeg": "[encoded data removed]",
      "image/png": "[encoded data removed]",
      "text/plain": [
       "<PIL.Image.Image image mode=L size=48x48>"
      ]
     },
     "metadata": {},
     "output_type": "display_data"
    },
    {
     "name": "stdout",
     "output_type": "stream",
     "text": [
      "0000.1.0\n"
     ]
    },
    {
     "data": {
      "image/jpeg": "[encoded data removed]",
      "image/png": "[encoded data removed]",
      "text/plain": [
       "<PIL.Image.Image image mode=L size=48x48>"
      ]
     },
     "metadata": {},
     "output_type": "display_data"
    },
    {
     "name": "stdout",
     "output_type": "stream",
     "text": [
      "00.1.000\n"
     ]
    },
    {
     "data": {
      "image/jpeg": "[encoded data removed]",
      "image/png": "[encoded data removed]",
      "text/plain": [
       "<PIL.Image.Image image mode=L size=48x48>"
      ]
     },
     "metadata": {},
     "output_type": "display_data"
    },
    {
     "name": "stdout",
     "output_type": "stream",
     "text": [
      ".1.0.1.0\n"
     ]
    },
    {
     "data": {
      "image/jpeg": "[encoded data removed]",
      "image/png": "[encoded data removed]",
      "text/plain": [
       "<PIL.Image.Image image mode=L size=48x48>"
      ]
     },
     "metadata": {},
     "output_type": "display_data"
    },
    {
     "name": "stdout",
     "output_type": "stream",
     "text": [
      ".0.1.0.1\n"
     ]
    },
    {
     "data": {
      "image/jpeg": "[encoded data removed]",
      "image/png": "[encoded data removed]",
      "text/plain": [
       "<PIL.Image.Image image mode=L size=48x48>"
      ]
     },
     "metadata": {},
     "output_type": "display_data"
    },
    {
     "name": "stdout",
     "output_type": "stream",
     "text": [
      "11.000.1\n"
     ]
    },
    {
     "data": {
      "image/jpeg": "[encoded data removed]",
      "image/png": "[encoded data removed]",
      "text/plain": [
       "<PIL.Image.Image image mode=L size=48x48>"
      ]
     },
     "metadata": {},
     "output_type": "display_data"
    },
    {
     "name": "stdout",
     "output_type": "stream",
     "text": [
      ".000.111\n"
     ]
    },
    {
     "data": {
      "image/jpeg": "[encoded data removed]",
      "image/png": "[encoded data removed]",
      "text/plain": [
       "<PIL.Image.Image image mode=L size=48x48>"
      ]
     },
     "metadata": {},
     "output_type": "display_data"
    },
    {
     "name": "stdout",
     "output_type": "stream",
     "text": [
      "00.111.0\n"
     ]
    },
    {
     "data": {
      "image/jpeg": "[encoded data removed]",
      "image/png": "[encoded data removed]",
      "text/plain": [
       "<PIL.Image.Image image mode=L size=48x48>"
      ]
     },
     "metadata": {},
     "output_type": "display_data"
    },
    {
     "name": "stdout",
     "output_type": "stream",
     "text": [
      ".111.000\n"
     ]
    },
    {
     "data": {
      "image/jpeg": "[encoded data removed]",
      "image/png": "[encoded data removed]",
      "text/plain": [
       "<PIL.Image.Image image mode=L size=48x48>"
      ]
     },
     "metadata": {},
     "output_type": "display_data"
    },
    {
     "name": "stdout",
     "output_type": "stream",
     "text": [
      "11.0.111\n"
     ]
    },
    {
     "data": {
      "image/jpeg": "[encoded data removed]",
      "image/png": "[encoded data removed]",
      "text/plain": [
       "<PIL.Image.Image image mode=L size=48x48>"
      ]
     },
     "metadata": {},
     "output_type": "display_data"
    },
    {
     "name": "stdout",
     "output_type": "stream",
     "text": [
      ".0.11111\n"
     ]
    },
    {
     "data": {
      "image/jpeg": "[encoded data removed]",
      "image/png": "[encoded data removed]",
      "text/plain": [
       "<PIL.Image.Image image mode=L size=48x48>"
      ]
     },
     "metadata": {},
     "output_type": "display_data"
    },
    {
     "name": "stdout",
     "output_type": "stream",
     "text": [
      ".11111.0\n"
     ]
    },
    {
     "data": {
      "image/jpeg": "[encoded data removed]",
      "image/png": "[encoded data removed]",
      "text/plain": [
       "<PIL.Image.Image image mode=L size=48x48>"
      ]
     },
     "metadata": {},
     "output_type": "display_data"
    },
    {
     "name": "stdout",
     "output_type": "stream",
     "text": [
      "1111.0.1\n"
     ]
    },
    {
     "data": {
      "image/jpeg": "[encoded data removed]",
      "image/png": "[encoded data removed]",
      "text/plain": [
       "<PIL.Image.Image image mode=L size=48x48>"
      ]
     },
     "metadata": {},
     "output_type": "display_data"
    },
    {
     "name": "stdout",
     "output_type": "stream",
     "text": [
      "11111111\n"
     ]
    },
    {
     "data": {
      "image/jpeg": "[encoded data removed]",
      "image/png": "[encoded data removed]",
      "text/plain": [
       "<PIL.Image.Image image mode=L size=48x48>"
      ]
     },
     "metadata": {},
     "output_type": "display_data"
    },
    {
     "name": "stdout",
     "output_type": "stream",
     "text": [
      "10.1.000\n"
     ]
    },
    {
     "data": {
      "image/jpeg": "[encoded data removed]",
      "image/png": "[encoded data removed]",
      "text/plain": [
       "<PIL.Image.Image image mode=L size=48x48>"
      ]
     },
     "metadata": {},
     "output_type": "display_data"
    },
    {
     "name": "stdout",
     "output_type": "stream",
     "text": [
      ".1.00010\n"
     ]
    },
    {
     "data": {
      "image/jpeg": "[encoded data removed]",
      "image/png": "[encoded data removed]",
      "text/plain": [
       "<PIL.Image.Image image mode=L size=48x48>"
      ]
     },
     "metadata": {},
     "output_type": "display_data"
    },
    {
     "name": "stdout",
     "output_type": "stream",
     "text": [
      ".00010.1\n"
     ]
    },
    {
     "data": {
      "image/jpeg": "[encoded data removed]",
      "image/png": "[encoded data removed]",
      "text/plain": [
       "<PIL.Image.Image image mode=L size=48x48>"
      ]
     },
     "metadata": {},
     "output_type": "display_data"
    },
    {
     "name": "stdout",
     "output_type": "stream",
     "text": [
      "0010.1.0\n"
     ]
    },
    {
     "data": {
      "image/jpeg": "[encoded data removed]",
      "image/png": "[encoded data removed]",
      "text/plain": [
       "<PIL.Image.Image image mode=L size=48x48>"
      ]
     },
     "metadata": {},
     "output_type": "display_data"
    },
    {
     "name": "stdout",
     "output_type": "stream",
     "text": [
      "00.1.010\n"
     ]
    },
    {
     "data": {
      "image/jpeg": "[encoded data removed]",
      "image/png": "[encoded data removed]",
      "text/plain": [
       "<PIL.Image.Image image mode=L size=48x48>"
      ]
     },
     "metadata": {},
     "output_type": "display_data"
    },
    {
     "name": "stdout",
     "output_type": "stream",
     "text": [
      ".1.01000\n"
     ]
    },
    {
     "data": {
      "image/jpeg": "[encoded data removed]",
      "image/png": "[encoded data removed]",
      "text/plain": [
       "<PIL.Image.Image image mode=L size=48x48>"
      ]
     },
     "metadata": {},
     "output_type": "display_data"
    },
    {
     "name": "stdout",
     "output_type": "stream",
     "text": [
      ".01000.1\n"
     ]
    },
    {
     "data": {
      "image/jpeg": "[encoded data removed]",
      "image/png": "[encoded data removed]",
      "text/plain": [
       "<PIL.Image.Image image mode=L size=48x48>"
      ]
     },
     "metadata": {},
     "output_type": "display_data"
    },
    {
     "name": "stdout",
     "output_type": "stream",
     "text": [
      "1000.1.0\n"
     ]
    },
    {
     "data": {
      "image/jpeg": "[encoded data removed]",
      "image/png": "[encoded data removed]",
      "text/plain": [
       "<PIL.Image.Image image mode=L size=48x48>"
      ]
     },
     "metadata": {},
     "output_type": "display_data"
    },
    {
     "name": "stdout",
     "output_type": "stream",
     "text": [
      "10.1.010\n"
     ]
    },
    {
     "data": {
      "image/jpeg": "[encoded data removed]",
      "image/png": "[encoded data removed]",
      "text/plain": [
       "<PIL.Image.Image image mode=L size=48x48>"
      ]
     },
     "metadata": {},
     "output_type": "display_data"
    },
    {
     "name": "stdout",
     "output_type": "stream",
     "text": [
      ".1.01010\n"
     ]
    },
    {
     "data": {
      "image/jpeg": "[encoded data removed]",
      "image/png": "[encoded data removed]",
      "text/plain": [
       "<PIL.Image.Image image mode=L size=48x48>"
      ]
     },
     "metadata": {},
     "output_type": "display_data"
    },
    {
     "name": "stdout",
     "output_type": "stream",
     "text": [
      ".01010.1\n"
     ]
    },
    {
     "data": {
      "image/jpeg": "[encoded data removed]",
      "image/png": "[encoded data removed]",
      "text/plain": [
       "<PIL.Image.Image image mode=L size=48x48>"
      ]
     },
     "metadata": {},
     "output_type": "display_data"
    },
    {
     "name": "stdout",
     "output_type": "stream",
     "text": [
      "1010.1.0\n"
     ]
    },
    {
     "data": {
      "image/jpeg": "[encoded data removed]",
      "image/png": "[encoded data removed]",
      "text/plain": [
       "<PIL.Image.Image image mode=L size=48x48>"
      ]
     },
     "metadata": {},
     "output_type": "display_data"
    },
    {
     "name": "stdout",
     "output_type": "stream",
     "text": [
      "10.111.0\n"
     ]
    },
    {
     "data": {
      "image/jpeg": "[encoded data removed]",
      "image/png": "[encoded data removed]",
      "text/plain": [
       "<PIL.Image.Image image mode=L size=48x48>"
      ]
     },
     "metadata": {},
     "output_type": "display_data"
    },
    {
     "name": "stdout",
     "output_type": "stream",
     "text": [
      ".111.010\n"
     ]
    },
    {
     "data": {
      "image/jpeg": "[encoded data removed]",
      "image/png": "[encoded data removed]",
      "text/plain": [
       "<PIL.Image.Image image mode=L size=48x48>"
      ]
     },
     "metadata": {},
     "output_type": "display_data"
    },
    {
     "name": "stdout",
     "output_type": "stream",
     "text": [
      "11.010.1\n"
     ]
    },
    {
     "data": {
      "image/jpeg": "[encoded data removed]",
      "image/png": "[encoded data removed]",
      "text/plain": [
       "<PIL.Image.Image image mode=L size=48x48>"
      ]
     },
     "metadata": {},
     "output_type": "display_data"
    },
    {
     "name": "stdout",
     "output_type": "stream",
     "text": [
      ".010.111\n"
     ]
    },
    {
     "data": {
      "image/jpeg": "[encoded data removed]",
      "image/png": "[encoded data removed]",
      "text/plain": [
       "<PIL.Image.Image image mode=L size=48x48>"
      ]
     },
     "metadata": {},
     "output_type": "display_data"
    }
   ],
   "source": [
    "for edge, mask in tm.masks.items():\n",
    "    print(edge)\n",
    "    mask.display(2)"
   ]
  },
  {
   "cell_type": "code",
   "execution_count": null,
   "id": "9102f119",
   "metadata": {},
   "outputs": [],
   "source": []
  },
  {
   "cell_type": "markdown",
   "id": "9136d916",
   "metadata": {},
   "source": [
    "# Examples:"
   ]
  },
  {
   "cell_type": "code",
   "execution_count": 6,
   "id": "df92b29c",
   "metadata": {},
   "outputs": [
    {
     "data": {
      "image/jpeg": "[encoded data removed]",
      "image/png": "[encoded data removed]",
      "text/plain": [
       "<PIL.Image.Image image mode=L size=96x96>"
      ]
     },
     "metadata": {},
     "output_type": "display_data"
    },
    {
     "data": {
      "image/jpeg": "[encoded data removed]",
      "image/png": "[encoded data removed]",
      "text/plain": [
       "<PIL.Image.Image image mode=L size=96x96>"
      ]
     },
     "metadata": {},
     "output_type": "display_data"
    },
    {
     "data": {
      "image/png": "[encoded data removed]",
      "text/plain": [
       "<PIL.Image.Image image mode=RGBA size=192x192>"
      ]
     },
     "metadata": {},
     "output_type": "display_data"
    }
   ],
   "source": [
    "SCALE = 4\n",
    "SIZE = (48, 48)\n",
    "PLANK_SIZE = (SIZE[0]-2, SIZE[1]//4)\n",
    "GAP_WIDTH = 3\n",
    "EDGE_WIDTH = 1\n",
    "SHADE_FORCE = 0.80\n",
    "\n",
    "base_mask = TileGen.gen_ort_mask(SIZE)\n",
    "head_mask1 = TileGen.gen_line_draw_mask(SIZE, [((SIZE[0]//4-0.5, 0), (SIZE[0]//4-0.5, SIZE[1]), 8), ((SIZE[0]-SIZE[0]//4-0.5, 0), (SIZE[0]-SIZE[0]//4-0.5, SIZE[1]), 8)], invert=False)\n",
    "head_mask2 = TileGen.gen_brick_pattern_mask(SIZE, PLANK_SIZE, GAP_WIDTH, EDGE_WIDTH, row_offset=1).offset((0, 1))\n",
    "head_mask1_2 = TileOps.merge_masks(head_mask1, head_mask2)\n",
    "\n",
    "head_mask1.display(SCALE//2)\n",
    "head_mask2.display(SCALE//2)\n",
    "\n",
    "base_tile = TileOps.shade_tile(TileGen.gen_texture_tile(SIZE, 'water'), head_mask1_2, (-2, -3), SHADE_FORCE, True)\n",
    "head_tile = TileGen.gen_texture_tile(SIZE, 'wood')\n",
    "head_tile1 = TileOps.shade_tile(head_tile.enhance(ImageEnhance.Brightness, SHADE_FORCE), head_mask2, (1, 1), SHADE_FORCE, False)\n",
    "head_tile2 = TileOps.shade_tile(head_tile.rotate(90), head_mask2, (1, 1), SHADE_FORCE, False)\n",
    "\n",
    "TileOps.merge_tiles(\n",
    "    (base_tile, base_mask),\n",
    "    (head_tile1, head_mask1),\n",
    "    (head_tile2, head_mask2),\n",
    ").display(SCALE)"
   ]
  },
  {
   "cell_type": "code",
   "execution_count": 7,
   "id": "aab19d53",
   "metadata": {},
   "outputs": [
    {
     "data": {
      "image/jpeg": "[encoded data removed]",
      "image/png": "[encoded data removed]",
      "text/plain": [
       "<PIL.Image.Image image mode=L size=192x192>"
      ]
     },
     "metadata": {},
     "output_type": "display_data"
    },
    {
     "data": {
      "image/jpeg": "[encoded data removed]",
      "image/png": "[encoded data removed]",
      "text/plain": [
       "<PIL.Image.Image image mode=RGB size=192x192>"
      ]
     },
     "metadata": {},
     "output_type": "display_data"
    }
   ],
   "source": [
    "SCALE = 4\n",
    "SIZE = 48\n",
    "BRICK_SIZE = (SIZE//4, SIZE//4)\n",
    "GAP_WIDTH = 2\n",
    "EDGE_WIDTH = 1\n",
    "SHADE_FORCE = 0.80\n",
    "\n",
    "shape_mask = TileGen.gen_ort_mask(SIZE)\n",
    "pattern_mask = TileGen.gen_brick_pattern_mask(shape_mask.size, BRICK_SIZE, GAP_WIDTH, EDGE_WIDTH)\n",
    "pattern_mask.display(SCALE)\n",
    "\n",
    "base_tile = TileGen.gen_texture_tile(shape_mask.size, 'grass.dry')\n",
    "head_tile = TileGen.gen_texture_tile(shape_mask.size, 'gravel')\n",
    "\n",
    "shaded_base = TileOps.shade_tile(base_tile, pattern_mask, (1, -1), SHADE_FORCE, True)\n",
    "shaded_head = TileOps.shade_tile(head_tile, pattern_mask, (-1, 1), SHADE_FORCE, False)\n",
    "\n",
    "combined = TileOps.overlay_tiles(shaded_base, shaded_head, pattern_mask)\n",
    "combined.display(SCALE)"
   ]
  },
  {
   "cell_type": "code",
   "execution_count": 8,
   "id": "079e5125",
   "metadata": {},
   "outputs": [
    {
     "data": {
      "image/jpeg": "[encoded data removed]",
      "image/png": "[encoded data removed]",
      "text/plain": [
       "<PIL.Image.Image image mode=L size=192x192>"
      ]
     },
     "metadata": {},
     "output_type": "display_data"
    },
    {
     "data": {
      "image/jpeg": "[encoded data removed]",
      "image/png": "[encoded data removed]",
      "text/plain": [
       "<PIL.Image.Image image mode=RGB size=192x192>"
      ]
     },
     "metadata": {},
     "output_type": "display_data"
    }
   ],
   "source": [
    "SCALE = 4\n",
    "SIZE = 48\n",
    "BRICK_SIZE = (SIZE//2, SIZE//4)\n",
    "GAP_WIDTH = 2\n",
    "EDGE_WIDTH = 1\n",
    "SHADE_FORCE = 0.75\n",
    "\n",
    "shape_mask = TileGen.gen_ort_mask(SIZE)\n",
    "pattern_mask = TileGen.gen_brick_pattern_mask(shape_mask.size, BRICK_SIZE, GAP_WIDTH, EDGE_WIDTH)\n",
    "pattern_mask.display(SCALE)\n",
    "\n",
    "base_tile = TileGen.gen_texture_tile(shape_mask.size, 'gravel')\n",
    "head_tile = TileGen.gen_texture_tile(shape_mask.size, 'clay')\n",
    "\n",
    "shaded_base = TileOps.shade_tile(base_tile, pattern_mask, (1, -1), SHADE_FORCE, True)\n",
    "shaded_head = TileOps.shade_tile(head_tile, pattern_mask, (-1, 1), SHADE_FORCE, False)\n",
    "\n",
    "combined = TileOps.overlay_tiles(shaded_base, shaded_head, pattern_mask)\n",
    "combined.display(SCALE)"
   ]
  },
  {
   "cell_type": "code",
   "execution_count": 9,
   "id": "00cf8378",
   "metadata": {},
   "outputs": [
    {
     "name": "stdout",
     "output_type": "stream",
     "text": [
      "Base texture\n"
     ]
    },
    {
     "data": {
      "image/jpeg": "[encoded data removed]",
      "image/png": "[encoded data removed]",
      "text/plain": [
       "<PIL.Image.Image image mode=RGB size=128x112>"
      ]
     },
     "metadata": {},
     "output_type": "display_data"
    },
    {
     "name": "stdout",
     "output_type": "stream",
     "text": [
      "Head texture\n"
     ]
    },
    {
     "data": {
      "image/jpeg": "[encoded data removed]",
      "image/png": "[encoded data removed]",
      "text/plain": [
       "<PIL.Image.Image image mode=RGB size=128x112>"
      ]
     },
     "metadata": {},
     "output_type": "display_data"
    },
    {
     "name": "stdout",
     "output_type": "stream",
     "text": [
      "Brick pattern mask\n"
     ]
    },
    {
     "data": {
      "image/jpeg": "[encoded data removed]",
      "image/png": "[encoded data removed]",
      "text/plain": [
       "<PIL.Image.Image image mode=L size=128x112>"
      ]
     },
     "metadata": {},
     "output_type": "display_data"
    },
    {
     "name": "stdout",
     "output_type": "stream",
     "text": [
      "Overlay result\n"
     ]
    },
    {
     "data": {
      "image/jpeg": "[encoded data removed]",
      "image/png": "[encoded data removed]",
      "text/plain": [
       "<PIL.Image.Image image mode=RGB size=128x112>"
      ]
     },
     "metadata": {},
     "output_type": "display_data"
    },
    {
     "name": "stdout",
     "output_type": "stream",
     "text": [
      "Hexagonal cut mask\n"
     ]
    },
    {
     "data": {
      "image/jpeg": "[encoded data removed]",
      "image/png": "[encoded data removed]",
      "text/plain": [
       "<PIL.Image.Image image mode=L size=128x112>"
      ]
     },
     "metadata": {},
     "output_type": "display_data"
    },
    {
     "name": "stdout",
     "output_type": "stream",
     "text": [
      "Final result\n"
     ]
    },
    {
     "data": {
      "image/png": "[encoded data removed]",
      "text/plain": [
       "<PIL.Image.Image image mode=RGBA size=128x112>"
      ]
     },
     "metadata": {},
     "output_type": "display_data"
    }
   ],
   "source": [
    "scale = 2\n",
    "mask = TileGen.gen_hex_mask(64, 'flat')\n",
    "pattern_mask = TileGen.gen_brick_pattern_mask(mask.size, (8, 5), 1, 1)\n",
    "base = TileGen.gen_texture_tile(mask.size, 'stone')\n",
    "head = TileGen.gen_texture_tile(mask.size, 'clay')\n",
    "brick_mortar = TileOps.overlay_tiles(base, head, pattern_mask)\n",
    "brick_mortar_tile = brick_mortar.copy().cutout(mask)\n",
    "\n",
    "\n",
    "print(\"Base texture\")\n",
    "base.display(scale)\n",
    "\n",
    "print(\"Head texture\")\n",
    "head.display(scale)\n",
    "\n",
    "print(\"Brick pattern mask\")\n",
    "pattern_mask.display(scale)\n",
    "\n",
    "print(\"Overlay result\")\n",
    "brick_mortar.display(scale)\n",
    "\n",
    "print(\"Hexagonal cut mask\")\n",
    "mask.display(scale)\n",
    "\n",
    "print(\"Final result\")\n",
    "brick_mortar_tile.display(scale)"
   ]
  },
  {
   "cell_type": "code",
   "execution_count": 10,
   "id": "1bd33331",
   "metadata": {},
   "outputs": [
    {
     "name": "stdout",
     "output_type": "stream",
     "text": [
      "Grass\n"
     ]
    },
    {
     "data": {
      "image/jpeg": "[encoded data removed]",
      "image/png": "[encoded data removed]",
      "text/plain": [
       "<PIL.Image.Image image mode=RGB size=192x192>"
      ]
     },
     "metadata": {},
     "output_type": "display_data"
    },
    {
     "name": "stdout",
     "output_type": "stream",
     "text": [
      "DryGrass\n"
     ]
    },
    {
     "data": {
      "image/jpeg": "[encoded data removed]",
      "image/png": "[encoded data removed]",
      "text/plain": [
       "<PIL.Image.Image image mode=RGB size=192x192>"
      ]
     },
     "metadata": {},
     "output_type": "display_data"
    },
    {
     "name": "stdout",
     "output_type": "stream",
     "text": [
      "Moss\n"
     ]
    },
    {
     "data": {
      "image/jpeg": "[encoded data removed]",
      "image/png": "[encoded data removed]",
      "text/plain": [
       "<PIL.Image.Image image mode=RGB size=192x192>"
      ]
     },
     "metadata": {},
     "output_type": "display_data"
    },
    {
     "name": "stdout",
     "output_type": "stream",
     "text": [
      "Water\n"
     ]
    },
    {
     "data": {
      "image/jpeg": "[encoded data removed]",
      "image/png": "[encoded data removed]",
      "text/plain": [
       "<PIL.Image.Image image mode=RGB size=192x192>"
      ]
     },
     "metadata": {},
     "output_type": "display_data"
    },
    {
     "name": "stdout",
     "output_type": "stream",
     "text": [
      "Dirt\n"
     ]
    },
    {
     "data": {
      "image/jpeg": "[encoded data removed]",
      "image/png": "[encoded data removed]",
      "text/plain": [
       "<PIL.Image.Image image mode=RGB size=192x192>"
      ]
     },
     "metadata": {},
     "output_type": "display_data"
    },
    {
     "name": "stdout",
     "output_type": "stream",
     "text": [
      "Mud\n"
     ]
    },
    {
     "data": {
      "image/jpeg": "[encoded data removed]",
      "image/png": "[encoded data removed]",
      "text/plain": [
       "<PIL.Image.Image image mode=RGB size=192x192>"
      ]
     },
     "metadata": {},
     "output_type": "display_data"
    },
    {
     "name": "stdout",
     "output_type": "stream",
     "text": [
      "Sand\n"
     ]
    },
    {
     "data": {
      "image/jpeg": "[encoded data removed]",
      "image/png": "[encoded data removed]",
      "text/plain": [
       "<PIL.Image.Image image mode=RGB size=192x192>"
      ]
     },
     "metadata": {},
     "output_type": "display_data"
    },
    {
     "name": "stdout",
     "output_type": "stream",
     "text": [
      "Clay\n"
     ]
    },
    {
     "data": {
      "image/jpeg": "[encoded data removed]",
      "image/png": "[encoded data removed]",
      "text/plain": [
       "<PIL.Image.Image image mode=RGB size=192x192>"
      ]
     },
     "metadata": {},
     "output_type": "display_data"
    },
    {
     "name": "stdout",
     "output_type": "stream",
     "text": [
      "Stone\n"
     ]
    },
    {
     "data": {
      "image/jpeg": "[encoded data removed]",
      "image/png": "[encoded data removed]",
      "text/plain": [
       "<PIL.Image.Image image mode=RGB size=192x192>"
      ]
     },
     "metadata": {},
     "output_type": "display_data"
    },
    {
     "name": "stdout",
     "output_type": "stream",
     "text": [
      "Gravel\n"
     ]
    },
    {
     "data": {
      "image/jpeg": "[encoded data removed]",
      "image/png": "[encoded data removed]",
      "text/plain": [
       "<PIL.Image.Image image mode=RGB size=192x192>"
      ]
     },
     "metadata": {},
     "output_type": "display_data"
    }
   ],
   "source": [
    "SCALE = 2\n",
    "\n",
    "print(\"Grass\")\n",
    "(TileGen\n",
    "    .gen_random_rgb((96, 96), ((48, 64), (64, 108), (24, 32)))\n",
    "    .filter([ImageFilter.SMOOTH_MORE])\n",
    "    .enhance(ImageEnhance.Color, 0.9)\n",
    ").display(SCALE)\n",
    "\n",
    "print(\"DryGrass\")\n",
    "(TileGen\n",
    "    .gen_random_rgb((96, 96), ((80, 8), (80, 8), (24, 4)), 'avgdev')\n",
    "    .filter([ImageFilter.SMOOTH_MORE])\n",
    "    .enhance(ImageEnhance.Color, 0.66)\n",
    ").display(SCALE)\n",
    "\n",
    "print(\"Moss\")\n",
    "(TileGen\n",
    "    .gen_random_rgb((96, 96), ((48, 4), (64, 4), (24, 4)), 'avgdev')\n",
    "    #.filter([ImageFilter.SMOOTH_MORE])\n",
    ").display(SCALE)\n",
    "\n",
    "print(\"Water\")\n",
    "(TileGen\n",
    "    .gen_random_rgb((96, 96), ((24, 32), (32, 48), (80, 120)))\n",
    "    .filter([ImageFilter.SMOOTH, ImageFilter.SMOOTH])\n",
    ").display(SCALE)\n",
    "\n",
    "print(\"Dirt\")\n",
    "(TileGen\n",
    "    .gen_random_rgb((96, 96), ((140, 160), (100, 120), (64, 80)))\n",
    "    .filter([ImageFilter.SMOOTH_MORE])\n",
    ").display(SCALE)\n",
    "\n",
    "print(\"Mud\")\n",
    "(TileGen\n",
    "    .gen_random_rgb((96, 96), ((100, 6), (72, 6), (56, 4)), 'avgdev')\n",
    "    .filter([ImageFilter.SMOOTH])\n",
    ").display(SCALE)\n",
    "\n",
    "print(\"Sand\")\n",
    "(TileGen\n",
    "    .gen_random_rgb((96, 96), ((240, 255), (200, 220), (180, 192)))\n",
    "    .filter([ImageFilter.SMOOTH])\n",
    ").display(SCALE)\n",
    "\n",
    "print(\"Clay\")\n",
    "(TileGen\n",
    "    .gen_random_rgb((96, 96), ((108, 120), (64, 80), (48, 64)))\n",
    "    .filter([ImageFilter.SMOOTH_MORE])\n",
    ").display(SCALE)\n",
    "\n",
    "print(\"Stone\")\n",
    "(TileGen\n",
    "    .gen_random_rgb((48, 48), ((100, 108), (100, 108), (100, 108)))\n",
    "    .scale(2, Image.Resampling.NEAREST)\n",
    "    .enhance(ImageEnhance.Color, 0.2)\n",
    ").display(SCALE)\n",
    "\n",
    "print(\"Gravel\")\n",
    "(TileGen\n",
    "    .gen_random_rgb((48, 48), ((96, 48), (96, 48), (96, 12)), 'avgdev')\n",
    "    .filter([ImageFilter.SMOOTH_MORE])\n",
    "    .scale(2, Image.Resampling.NEAREST)\n",
    "    .enhance(ImageEnhance.Color, 0.05)\n",
    ").display(SCALE)\n"
   ]
  },
  {
   "cell_type": "code",
   "execution_count": 11,
   "id": "e36996bd",
   "metadata": {},
   "outputs": [
    {
     "data": {
      "image/png": "[encoded data removed]",
      "text/plain": [
       "<PIL.Image.Image image mode=RGBA size=96x48>"
      ]
     },
     "metadata": {},
     "output_type": "display_data"
    }
   ],
   "source": [
    "# TileGen.gen_hex_mask((24, 12), 'flat', 4).display(4)\n",
    "# TileGen.gen_iso_mask(24).display(4)\n",
    "(TileGen\n",
    "    .gen_random_rgb((24, 12), ((48, 64), (64, 108), (24, 32)))\n",
    "    .filter([ImageFilter.SMOOTH_MORE])\n",
    "    .enhance(ImageEnhance.Color, 0.9)\n",
    "    .cutout(TileGen.gen_iso_mask(24))\n",
    ").display(4)"
   ]
  },
  {
   "cell_type": "code",
   "execution_count": null,
   "id": "b01cdd25",
   "metadata": {},
   "outputs": [],
   "source": []
  },
  {
   "cell_type": "code",
   "execution_count": null,
   "id": "c06e6a47",
   "metadata": {},
   "outputs": [],
   "source": []
  },
  {
   "cell_type": "code",
   "execution_count": null,
   "id": "3b54cb39",
   "metadata": {},
   "outputs": [],
   "source": []
  },
  {
   "cell_type": "code",
   "execution_count": 18,
   "id": "5b725a51",
   "metadata": {},
   "outputs": [
    {
     "data": {
      "image/png": "[encoded data removed]",
      "text/plain": [
       "<PIL.Image.Image image mode=P size=288x144>"
      ]
     },
     "metadata": {},
     "output_type": "display_data"
    },
    {
     "data": {
      "image/png": "[encoded data removed]",
      "text/plain": [
       "<PIL.Image.Image image mode=P size=288x144>"
      ]
     },
     "metadata": {},
     "output_type": "display_data"
    }
   ],
   "source": [
    "image = Tile('iso.png')#.image.convert('RGB')\n",
    "image.display(12)\n",
    "# display_image(image, 10)\n",
    "\n",
    "image.rotate(180).mirror('-').mirror('|').display(12)\n",
    "\n",
    "# W, H = image.size\n",
    "\n",
    "# x1, y1 = 0, H\n",
    "# x2, y2 = W, 0\n",
    "\n",
    "# A = y2 - y1 \n",
    "# B = -(x2 - x1)\n",
    "# C = (-A * x1) - (B * y1)\n",
    "# M = (A*A + B*B) ** 0.5\n",
    "\n",
    "# A_ = A / M\n",
    "# B_ = B / M\n",
    "# C_ = C / M\n",
    "\n",
    "\n",
    "# newimg = Image.new('RGB', image.size, (0, 0, 0))\n",
    "# display_image(newimg, 10)\n",
    "\n",
    "# def clamp(value: float, _range: tuple[float, float]) -> Any:\n",
    "#     if value < _range[0]: return _range[0]\n",
    "#     if value > _range[1]: return _range[1]\n",
    "#     return value\n",
    "\n",
    "\n",
    "# print(f\"{W=} {H=}\")\n",
    "\n",
    "# for c in range(image.size[0]):\n",
    "#     for r in range(image.size[1]):\n",
    "#         p = image.getpixel((c, r))\n",
    "        \n",
    "#         D = A_*c + B_*r + C_\n",
    "#         Px = int(clamp(c - 2*A_*D, (0, W-1)))\n",
    "#         Py = int(clamp(r - 2*B_*D, (0, H-1)))\n",
    "        \n",
    "#         newimg.putpixel((Px, Py), p)\n",
    "\n",
    "# display_image(newimg, 10)\n",
    "\n"
   ]
  },
  {
   "cell_type": "code",
   "execution_count": null,
   "id": "66c64eca",
   "metadata": {},
   "outputs": [],
   "source": []
  },
  {
   "cell_type": "code",
   "execution_count": 13,
   "id": "1f4f0527",
   "metadata": {},
   "outputs": [
    {
     "data": {
      "image/jpeg": "[encoded data removed]",
      "image/png": "[encoded data removed]",
      "text/plain": [
       "<PIL.Image.Image image mode=RGB size=192x192>"
      ]
     },
     "metadata": {},
     "output_type": "display_data"
    },
    {
     "data": {
      "image/jpeg": "[encoded data removed]",
      "image/png": "[encoded data removed]",
      "text/plain": [
       "<PIL.Image.Image image mode=RGB size=384x192>"
      ]
     },
     "metadata": {},
     "output_type": "display_data"
    }
   ],
   "source": [
    "from PIL import Image, ImageTransform\n",
    "\n",
    "image = Image.open(\"test.png\")\n",
    "display_image(image, 8)\n",
    "\n",
    "\n",
    "\n",
    "# Define the shear factor (e.g., 0.5 for moderate shear)\n",
    "shear_x = 1.0  # x-shear\n",
    "shear_y = 0.0  # no y-shear\n",
    "\n",
    "# Construct the 6-tuple affine matrix for shearing\n",
    "# Affine matrix is (a, b, c, d, e, f)\n",
    "# For shear in x-direction: b = shear_x\n",
    "# Transformation matrix:\n",
    "# | a  b  c |\n",
    "# | d  e  f |\n",
    "# | 0  0  1 |\n",
    "\n",
    "# sx=-1 -> image.size[0] + (image.size[0] * shear_x)\n",
    "# sx=1  -> -(image.size[0] * shear_x)\n",
    "matrix = (\n",
    "    1,       shear_x, -(image.size[0] * shear_x),\n",
    "    shear_y,       1, 0,\n",
    "    0,             0, 1,\n",
    ") \n",
    "\n",
    "# Create AffineTransform object\n",
    "transform = ImageTransform.AffineTransform(matrix)\n",
    "\n",
    "resize = (\n",
    "    int(image.size[0] * (1 + abs(shear_x))),\n",
    "    int(image.size[1] * (1 + abs(shear_y))),\n",
    ")\n",
    "\n",
    "sheared_image = image.transform(resize, transform, resample=Image.Resampling.NEAREST)\n",
    "\n",
    "display_image(sheared_image, 8)"
   ]
  }
 ],
 "metadata": {
  "kernelspec": {
   "display_name": "venv",
   "language": "python",
   "name": "python3"
  },
  "language_info": {
   "codemirror_mode": {
    "name": "ipython",
    "version": 3
   },
   "file_extension": ".py",
   "mimetype": "text/x-python",
   "name": "python",
   "nbconvert_exporter": "python",
   "pygments_lexer": "ipython3",
   "version": "3.12.10"
  }
 },
 "nbformat": 4,
 "nbformat_minor": 5
}
