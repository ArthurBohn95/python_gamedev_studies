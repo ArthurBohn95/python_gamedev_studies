{
 "cells": [
  {
   "cell_type": "code",
   "execution_count": 1,
   "metadata": {},
   "outputs": [
    {
     "data": {
      "text/plain": [
       "0.5099999999999998"
      ]
     },
     "execution_count": 1,
     "metadata": {},
     "output_type": "execute_result"
    }
   ],
   "source": [
    "5.51 % 5"
   ]
  },
  {
   "cell_type": "code",
   "execution_count": null,
   "metadata": {},
   "outputs": [],
   "source": []
  },
  {
   "cell_type": "code",
   "execution_count": null,
   "metadata": {},
   "outputs": [],
   "source": []
  },
  {
   "cell_type": "code",
   "execution_count": 3,
   "metadata": {},
   "outputs": [
    {
     "name": "stdout",
     "output_type": "stream",
     "text": [
      "info='bubble'\n",
      "info='f08'\n",
      "parse_direc_frame(name) = (None, 8)\n",
      "info='test'\n",
      "info='d000'\n",
      "info='f001'\n",
      "parse_direc_frame(name) = (0, 1)\n"
     ]
    }
   ],
   "source": [
    "def parse_direc_frame(filename: str) -> tuple[int, int]:\n",
    "    direc = None\n",
    "    frame = 0\n",
    "    \n",
    "    for info in filename.split('_'):\n",
    "        if not info[1:].isnumeric():\n",
    "            continue\n",
    "        val = int(info[1:])\n",
    "        \n",
    "        if info.startswith('d'):\n",
    "            direc = val\n",
    "        elif info.startswith('f'):\n",
    "            frame = val\n",
    "    \n",
    "    return direc, frame\n",
    "\n",
    "names = [\n",
    "    \"bubble_f08\",\n",
    "    \"test_d000_f001\",\n",
    "]\n",
    "\n",
    "for name in names:\n",
    "    print(f\"{parse_direc_frame(name) = }\")"
   ]
  },
  {
   "cell_type": "code",
   "execution_count": null,
   "metadata": {},
   "outputs": [],
   "source": []
  },
  {
   "cell_type": "code",
   "execution_count": 17,
   "metadata": {},
   "outputs": [
    {
     "data": {
      "text/plain": [
       "{'idle': {'type': 'repeat',\n",
       "  'delay': [5, 5, 5, 5, 5, 5, 5, 5, 5],\n",
       "  'frames': [0, 1, 2, 3, 4, 5, 6, 7, 8],\n",
       "  'length': 9},\n",
       " 'move': {'type': 'bounce',\n",
       "  'delay': [5, 6, 10, 4, 5, 4, 10, 6],\n",
       "  'frames': [0, 1, 2, 3, 4, 3, 2, 1],\n",
       "  'length': 8},\n",
       " 'stop': {'type': 'random',\n",
       "  'delay': [10, 30, 50, 60, 20],\n",
       "  'frames': [0, 3, 5, 6, 8],\n",
       "  'length': 5}}"
      ]
     },
     "execution_count": 17,
     "metadata": {},
     "output_type": "execute_result"
    }
   ],
   "source": [
    "import json\n",
    "\n",
    "class AnimationKeyframesManager():\n",
    "    def __init__(self) -> None:\n",
    "        self.keyframes: dict[str, dict[str, dict]] = {}\n",
    "    \n",
    "    def add_animation_keyframes(self, path: str) -> None:\n",
    "        model_name = path.split('/')[-1]\n",
    "        \n",
    "        with open(f\"{path}/_keyframes.json\", 'r') as injson:\n",
    "            keyframes: dict[str, dict] = json.load(injson)\n",
    "        \n",
    "        for statename, state in keyframes[\"states\"].items():\n",
    "            if not isinstance(state[\"delay\"], list):\n",
    "                state[\"delay\"] = [state[\"delay\"]] * len(state[\"frames\"])\n",
    "            \n",
    "            if state[\"type\"] == \"bounce\": # [0, 1, 2, 3] -invert> [3, 2, 1, 0] -trim> [_, 2, 1, _] -join> [0, 1, 2, 3, 2, 1]\n",
    "                state[\"delay\"] += state[\"delay\"][::-1][1:-1]\n",
    "                state[\"frames\"] += state[\"frames\"][::-1][1:-1]\n",
    "            state[\"length\"] = len(state[\"frames\"])\n",
    "            \n",
    "            if len(state[\"delay\"]) != len(state[\"frames\"]):\n",
    "                print(f\"Model's '{model_name}' state '{statename}' is wrong\")\n",
    "        \n",
    "        self.keyframes[model_name] = keyframes\n",
    "\n",
    "ak = AnimationKeyframesManager()\n",
    "ak.add_animation_keyframes(\"./sprites/animations/bubble\")\n",
    "ak.keyframes[\"bubble\"][\"states\"]"
   ]
  },
  {
   "cell_type": "markdown",
   "metadata": {},
   "source": [
    "---"
   ]
  },
  {
   "cell_type": "code",
   "execution_count": 18,
   "metadata": {},
   "outputs": [
    {
     "name": "stdout",
     "output_type": "stream",
     "text": [
      "animations_paths=['./sprites/animations/bubble', './sprites/animations/other', './sprites/animations/test']\n"
     ]
    }
   ],
   "source": []
  },
  {
   "cell_type": "code",
   "execution_count": 9,
   "metadata": {},
   "outputs": [],
   "source": [
    "\n",
    "\n",
    "animgr = AnimationManager(\"./sprites/animations\")"
   ]
  },
  {
   "cell_type": "code",
   "execution_count": null,
   "metadata": {},
   "outputs": [],
   "source": [
    "import os\n",
    "import arcade\n",
    "\n",
    "animations_paths: list[str] = []\n",
    "for folder in os.listdir(\"./sprites/animations\"):\n",
    "    full_path = f\"./sprites/animations/{folder}\"\n",
    "    animations_paths.append(full_path)\n",
    "\n",
    "print(f\"{animations_paths=}\")"
   ]
  },
  {
   "cell_type": "code",
   "execution_count": 1,
   "metadata": {},
   "outputs": [],
   "source": [
    "class AnimationManager():\n",
    "    def __init__(self, animations_folder: str) -> None:\n",
    "        self.animations: dict[str, AnimationData] = {}\n",
    "        \n",
    "        for model in os.listdir(animations_folder):\n",
    "            full_path = f\"{animations_folder}/{model}\"\n",
    "            self.animations[model] = AnimationData(full_path)"
   ]
  },
  {
   "cell_type": "code",
   "execution_count": null,
   "metadata": {},
   "outputs": [],
   "source": [
    "\n",
    "\n",
    "\n",
    "BASE_PATH = \"./rotsys/sprites/animations/\"\n",
    "ANIM_PATHS: dict[str, dict[str, str]] = {}\n",
    "for dirpath, _, filenames in os.walk(BASE_PATH):\n",
    "    anim_name = dirpath.replace(BASE_PATH, \"\")\n",
    "    if not anim_name or not filenames:\n",
    "        continue\n",
    "    ANIM_PATHS[anim_name] = {fn.split('.')[0]: f\"{dirpath}/{fn}\" for fn in filenames}\n",
    "\n",
    "TEXTURES = {}\n",
    "for name, paths in ANIM_PATHS.items():\n",
    "    TEXTURES[name] = {}\n",
    "    for texname, texpath in paths.items():\n",
    "        key = parse_direc_frame(texname)\n",
    "        texture = arcade.load_texture(texpath)\n",
    "        TEXTURES[name][key] = texture\n"
   ]
  }
 ],
 "metadata": {
  "kernelspec": {
   "display_name": "venv",
   "language": "python",
   "name": "python3"
  },
  "language_info": {
   "codemirror_mode": {
    "name": "ipython",
    "version": 3
   },
   "file_extension": ".py",
   "mimetype": "text/x-python",
   "name": "python",
   "nbconvert_exporter": "python",
   "pygments_lexer": "ipython3",
   "version": "3.11.9"
  }
 },
 "nbformat": 4,
 "nbformat_minor": 2
}
